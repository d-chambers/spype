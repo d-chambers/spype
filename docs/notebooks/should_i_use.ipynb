{
 "cells": [
  {
   "cell_type": "markdown",
   "metadata": {},
   "source": [
    "# Should I Use Spype?\n",
    "\n",
    "__WARNING__: spype is brand new. Don't use it in production until it matures a little.\n",
    "\n",
    "The following questions will help you decide if Spype is the right library for you, or if you are better of using something else.\n",
    "\n",
    "\n",
    "### Can you use python 3.6 or greater?\n",
    "\n",
    "Spype only runs on python 3.6+, so if you are still stuck on 2.7 you cannot use spype. Also, I feel for you. \n",
    "\n",
    "\n",
    "### Does my data fit on a single machine?\n",
    "\n",
    "Although spype is designed to play nice multiprocessing and multithreading, it is not really designed to run across a network. If the data you are trying to process do not fit on a single machine I recommend you look elsewhere.\n",
    "\n",
    "### Do you want to limit external dependencies?\n",
    "\n",
    "Spype does not have any required external dependencies, it runs on pure python.\n",
    "\n",
    "### Do you value expressiveness and maintainability over short execution time?\n",
    "\n",
    "Spype provides a rich, concise API, and provides several features to help you discipline your data flows. However, these features come at performance cost that may or may not be significant depending on your application.\n",
    "\n",
    "\n",
    "### Do you want to \"push\" or \"pull\" you data?\n",
    "\n",
    "If you have a piece of data and you can describe the steps that need to be performed on it, you probably want to use a pipeline system that implements a \"push\" paradigm (like spype). If, however, you can describe the data you want to generate, and steps required to do so, you probably want a \"pull\" system (like [dask's custom graphs](http://dask.pydata.org/en/latest/custom-graphs.html).  \n",
    "\n",
    "\n",
    "# Similar Projects\n",
    "\n",
    "The most similar project to spype that I have encountered is [consecution](https://github.com/robdmc/consecution). It looks like an excellent package, be sure to take a look at it.\n",
    "\n",
    "There are also other libraries that somewhat fit into the same space as spype. Here are a few (in no particular order):\n",
    "[luigi](https://pypi.python.org/pypi/luigi), [airflow](https://github.com/apache/incubator-airflow), [pinball](https://github.com/pinterest/pinball), [dagobah](https://github.com/thieman/dagobah),  [celery](http://www.celeryproject.org/), [dask](https://dask.pydata.org/en/latest/), [streamz](https://github.com/mrocklin/streamz).\n",
    "\n",
    "There is also an [awesome list of data pipelines](https://github.com/pditommaso/awesome-pipeline) you should checkout. \n",
    "\n",
    "You can also find an awesome, curated list of data pipeline codes for many different languages [here]."
   ]
  }
 ],
 "metadata": {
  "kernelspec": {
   "display_name": "Python 3",
   "language": "python",
   "name": "python3"
  },
  "language_info": {
   "codemirror_mode": {
    "name": "ipython",
    "version": 3
   },
   "file_extension": ".py",
   "mimetype": "text/x-python",
   "name": "python",
   "nbconvert_exporter": "python",
   "pygments_lexer": "ipython3",
   "version": "3.6.3"
  }
 },
 "nbformat": 4,
 "nbformat_minor": 2
}
