{
 "cells": [
  {
   "cell_type": "markdown",
   "metadata": {},
   "source": [
    "# Tutorial\n",
    "\n",
    "## Tasks\n",
    "\n",
    "Tasks are the basic unit of sflow. Each task encapsulates some unit of work. Tasks can be defined either through inheritance or using a decorator. For example, the following statements are (roughly) equivalent:\n",
    "\n",
    "### Task through function decorator"
   ]
  },
  {
   "cell_type": "code",
   "execution_count": 1,
   "metadata": {
    "collapsed": true
   },
   "outputs": [],
   "source": [
    "import spype\n",
    "\n",
    "@spype.task\n",
    "def to_int(obj):\n",
    "    return int(obj)"
   ]
  },
  {
   "cell_type": "markdown",
   "metadata": {},
   "source": [
    "### Task through inheritance"
   ]
  },
  {
   "cell_type": "code",
   "execution_count": 2,
   "metadata": {
    "collapsed": true
   },
   "outputs": [],
   "source": [
    "class ToInt(spype.Task):\n",
    "    \n",
    "    def __init__(self):\n",
    "        pass  # init some state when needed\n",
    "        \n",
    "    def __call__(self, obj):\n",
    "        return int(obj)\n",
    "    \n",
    "to_int = ToInt()"
   ]
  },
  {
   "cell_type": "markdown",
   "metadata": {},
   "source": [
    "Note: A call method must be defined.\n",
    "\n",
    "Now calling the function, or an instance of the task class, will behave exactly like before. There is however, an added `run` method which will hook in all the spype machinery which includes optional type checking and callbacks. \n",
    "\n",
    "### Type checking\n",
    "Tasks support run-time type checking using type hints. Defining a type hint will both validate data input to a task and ensure tasks are hooked together correctly (see [pypes](pype.ipynb)). They are completely optional, but I recommend you use them on real-world sflow applications to help you not screw up."
   ]
  },
  {
   "cell_type": "code",
   "execution_count": 3,
   "metadata": {},
   "outputs": [
    {
     "name": "stdout",
     "output_type": "stream",
     "text": [
      "TypeError raised\n"
     ]
    }
   ],
   "source": [
    "@spype.task\n",
    "def str_to_int(obj: str) -> int:\n",
    "    return int(obj)\n",
    "\n",
    "try:\n",
    "    str_to_int.run(1)\n",
    "except TypeError:\n",
    "    print('TypeError raised')"
   ]
  },
  {
   "cell_type": "markdown",
   "metadata": {},
   "source": [
    "Although spype's type system is not perfect, the use of most of the classes defined in the `typing` module, such as `Optional`, `Union`, `List`, etc. are supported."
   ]
  },
  {
   "cell_type": "code",
   "execution_count": 4,
   "metadata": {},
   "outputs": [
    {
     "name": "stdout",
     "output_type": "stream",
     "text": [
      "TypeError raised\n"
     ]
    }
   ],
   "source": [
    "from typing import Union, TypeVar, Optional\n",
    "\n",
    "\n",
    "# -------------- using Optional, Union\n",
    "@spype.task\n",
    "def is_even(num: int) -> Optional[Union[bool, int]]:\n",
    "    \"\"\" bad function to return True if even, else the number if odd.\n",
    "    Return None if num == 13 \"\"\"\n",
    "    if num == 13:  # this will cause a type error\n",
    "        return 'This is a mistake in the code'\n",
    "    elif num % 2 == 0:\n",
    "        return True\n",
    "    else:\n",
    "        return num\n",
    "    \n",
    "is_even(1)  # returns 1\n",
    "is_even(2)  # returns True\n",
    "\n",
    "# this raises TypeError as a str is not part of specified output\n",
    "try:\n",
    "    is_even.run(13)\n",
    "except TypeError:\n",
    "    print('TypeError raised')"
   ]
  },
  {
   "cell_type": "code",
   "execution_count": 5,
   "metadata": {},
   "outputs": [
    {
     "name": "stdout",
     "output_type": "stream",
     "text": [
      "TypeError raised\n"
     ]
    }
   ],
   "source": [
    "# ------------------ using typevar\n",
    "\n",
    "TV = TypeVar('TV', int, float, str)\n",
    "\n",
    "@spype.task\n",
    "def add_to_self(obj: TV) -> TV:\n",
    "    \"\"\" add an object to itself, return \"\"\"\n",
    "    if obj == 13:  # unlucky number, here is another bug\n",
    "        return float(13 + 13)\n",
    "    return obj + obj\n",
    "\n",
    "\n",
    "# these are all good\n",
    "add_to_self(10)  # returns 20\n",
    "add_to_self('_java_sucks_')  # returns '_java_sucks__java_sucks_'\n",
    "add_to_self(13.)  # returns 26.0 \n",
    "\n",
    "\n",
    "# this raises because 13 is an int and 26.0 is a float (not the same type as input)\n",
    "try:\n",
    "    add_to_self.run(13)\n",
    "except TypeError:\n",
    "    print('TypeError raised')"
   ]
  },
  {
   "cell_type": "markdown",
   "metadata": {},
   "source": [
    "### Callbacks\n",
    "Each task supports any number of one of four types of callbacks: \n",
    "\n",
    "\n",
    "| Callback | Description |\n",
    "| :------: | :---------: |\n",
    "| on_start | Called before running the task |\n",
    "| on_failure | Called if the task raises an unhandled exception |\n",
    "| on_success | Called if the task did not raise an unhandled exception |\n",
    "| on_finish | Called when the task finishes, regardless of exceptions |\n",
    "\n",
    "\n",
    "The callbacks can be defined using keywords in the decorator call or implemented as class methods. These are useful for customizing how failures are handled (e.g. dropping into a debugger), applying data validators, implementing hooks, etc.\n",
    "\n",
    "\n",
    "####  Generic Callback Fixtures\n",
    "\n",
    "\n",
    "Rather than requiring a specific signature for each type of callback, you can control the data the callbacks receive based on the argument names defined in the functions. This is known as a fixture (this concept was stolen from [pytest](https://docs.pytest.org/en/latest/)). \n",
    "\n",
    "spype.TASK_FIXTURES is a mapping that contains the supported task fixtures and a brief description of each:"
   ]
  },
  {
   "cell_type": "code",
   "execution_count": 6,
   "metadata": {},
   "outputs": [
    {
     "data": {
      "text/plain": [
       "mappingproxy({'args': 'A tuple of arguments passed to current task',\n",
       "              'e': 'The exception object if one was raised, else None',\n",
       "              'inputs': 'A tuple of (args, kwargs) passed as input to current task',\n",
       "              'kwargs': 'A dict of keywork arguments passed to current task',\n",
       "              'outputs': 'The outputs of calling a task, or None',\n",
       "              'self': 'A reference to the current task object',\n",
       "              'signature': \"The signature of the task's run method\",\n",
       "              'task': 'A reference to the current task object'})"
      ]
     },
     "execution_count": 6,
     "metadata": {},
     "output_type": "execute_result"
    }
   ],
   "source": [
    "spype.TASK_FIXTURES"
   ]
  },
  {
   "cell_type": "markdown",
   "metadata": {},
   "source": [
    "Here are a few simple examples of callbacks:"
   ]
  },
  {
   "cell_type": "code",
   "execution_count": 7,
   "metadata": {
    "collapsed": true
   },
   "outputs": [],
   "source": [
    "def on_failure(task, e, inputs):\n",
    "    \"\"\" e is the exception raised, the inputs to the task are bound to args and kwargs \"\"\"\n",
    "\n",
    "def on_success(task, outputs):\n",
    "    \"\"\" return values of the task are bound to args and kwargs \"\"\""
   ]
  },
  {
   "cell_type": "markdown",
   "metadata": {},
   "source": [
    "Callbacks can be used with both class-based tasks and decorator tasks like so:"
   ]
  },
  {
   "cell_type": "code",
   "execution_count": 8,
   "metadata": {},
   "outputs": [
    {
     "name": "stdout",
     "output_type": "stream",
     "text": [
      "StrToInt instance raised: unlucky numbers not accepted\n",
      "\n",
      "inputs are: (('13',), {})\n"
     ]
    }
   ],
   "source": [
    "# attach callbacks in task class\n",
    "class StrToInt(spype.Task):\n",
    "    def __call__(self, obj: str) -> int:\n",
    "        if obj == '13':\n",
    "            raise ValueError('unlucky numbers not accepted')\n",
    "        return int(obj)\n",
    "    \n",
    "    def on_failure(self, e, inputs):\n",
    "        print(f'{self} raised: {e}\\n')\n",
    "        print(f'inputs are: {inputs}')\n",
    "\n",
    "\n",
    "str_to_int = StrToInt()\n",
    "\n",
    "str_to_int.run('13') # prints name and exception, then input args and kwargs. "
   ]
  },
  {
   "cell_type": "code",
   "execution_count": 9,
   "metadata": {},
   "outputs": [
    {
     "name": "stdout",
     "output_type": "stream",
     "text": [
      "<function str_to_int at 0x7efe4c395d90> raised unlucky numbers not accepted\n",
      "input args: (('13',), {})\n"
     ]
    }
   ],
   "source": [
    "# this is the equivelent function-based approach:\n",
    "\n",
    "def on_failure(task, e, inputs):\n",
    "        print(f'{task} raised {e}')\n",
    "        print(f'input args: {inputs}')\n",
    "    \n",
    "\n",
    "@spype.task(on_failure=on_failure)\n",
    "def str_to_int(obj: str) -> int:\n",
    "    if obj == '13':\n",
    "        raise ValueError('unlucky numbers not accepted')\n",
    "    return None\n",
    "\n",
    "str_to_int.run('13')"
   ]
  },
  {
   "cell_type": "markdown",
   "metadata": {},
   "source": [
    "#### Task Specific Callbacks\n",
    "\n",
    "In addition to the task fixtures, callbacks can also request any of the named parameters in the task signature. However, if the task does not have the requested parameter this will raise an exception."
   ]
  },
  {
   "cell_type": "code",
   "execution_count": 10,
   "metadata": {},
   "outputs": [
    {
     "name": "stdout",
     "output_type": "stream",
     "text": [
      "on_start callback got a: 1, c: 3\n"
     ]
    }
   ],
   "source": [
    "def on_start(a, c):\n",
    "    print(f'on_start callback got a: {a}, c: {c}')\n",
    "\n",
    "    \n",
    "@spype.task(on_start=on_start)\n",
    "def some_task(a, b, c):\n",
    "    pass\n",
    "\n",
    "\n",
    "some_task.run(1, 2, 3)"
   ]
  },
  {
   "cell_type": "markdown",
   "metadata": {},
   "source": [
    "#### Replacing Task Output\n",
    "\n",
    "If a callback returns any value other than `None`, the task will return that value. The value the callback returns will be output immediately without running the other callbacks."
   ]
  },
  {
   "cell_type": "code",
   "execution_count": 11,
   "metadata": {},
   "outputs": [
    {
     "data": {
      "text/plain": [
       "1.0"
      ]
     },
     "execution_count": 11,
     "metadata": {},
     "output_type": "execute_result"
    }
   ],
   "source": [
    "def on_start(num1):\n",
    "    return float(num1)\n",
    "    \n",
    "def on_finish():\n",
    "    print('This line will never get printed')\n",
    "    \n",
    "@spype.task(on_start=on_start, on_finish=on_finish)\n",
    "def return_float(num1) -> float:\n",
    "    return num1\n",
    "\n",
    "return_float.run(1)"
   ]
  },
  {
   "cell_type": "markdown",
   "metadata": {},
   "source": [
    "#### Terminating Task Execution"
   ]
  },
  {
   "cell_type": "markdown",
   "metadata": {},
   "source": [
    "If a task should stop execution, and return None (which will prevent any downstream processing carried out by pypes) `ExitTask` exception can be raised."
   ]
  },
  {
   "cell_type": "code",
   "execution_count": 12,
   "metadata": {},
   "outputs": [
    {
     "name": "stdout",
     "output_type": "stream",
     "text": [
      "terminating task execution\n"
     ]
    }
   ],
   "source": [
    "def stop_it():\n",
    "    print('terminating task execution')\n",
    "    raise spype.ExitTask\n",
    "    \n",
    "@spype.task(on_start=stop_it)\n",
    "def some_task(a):\n",
    "    return a\n",
    "\n",
    "some_task.run(1)"
   ]
  },
  {
   "cell_type": "markdown",
   "metadata": {},
   "source": [
    "#### Replacing Callbacks\n",
    "\n",
    "Callbacks can also be attached after task definition, or replace permanently or temporarily."
   ]
  },
  {
   "cell_type": "code",
   "execution_count": 13,
   "metadata": {},
   "outputs": [
    {
     "name": "stdout",
     "output_type": "stream",
     "text": [
      "just swallowed: \"bad function call\"\n"
     ]
    }
   ],
   "source": [
    "def dont_care(e):\n",
    "    \"\"\" use this callback when you are beyond caring, maybe a friday afternoon? \"\"\"\n",
    "    print(f'just swallowed: \"{e}\"')\n",
    "\n",
    "\n",
    "@spype.task\n",
    "def naming_is_hard():\n",
    "    raise ValueError('bad function call')\n",
    "\n",
    "\n",
    "# You can also set callbacks default callbacks for all tasks using options\n",
    "with spype.options(on_failure=dont_care):\n",
    "    naming_is_hard.run()  # wont raise"
   ]
  },
  {
   "cell_type": "code",
   "execution_count": 14,
   "metadata": {
    "collapsed": true
   },
   "outputs": [],
   "source": [
    "# callbacks can be overwritten, but don't do this unless you have a good reason\n",
    "str_to_int.on_failure = dont_care  # replaces old callback (be careful with this one)\n",
    "\n",
    "# you can also define a sequence of callbacks to be executed in order\n",
    "str_to_int.on_failure = (dont_care, on_failure)  # calls dont_care first then on_failure"
   ]
  },
  {
   "cell_type": "markdown",
   "metadata": {},
   "source": [
    "## Pypes\n",
    "\n",
    "The `Pype` class is used to hook tasks together, and to controll data flow from task to task (yes, \"pype\" is a bad pun for \"python pipes\"). The basic idea; you can just hook tasks together in an intuitive way and use the resulting pype as a callable to kick the whole thing off. \n",
    "\n",
    "Some operators for hooking tasks/pypes together:\n",
    "\n",
    "|Operator|Use|\n",
    "|:--------|:------------:|\n",
    "|&#124;|Hook tasks/pypes in series|\n",
    "|&|Hook tasks/pypes in parallel|\n",
    "|&#124;=|Hook tasks/pypes in serial in place| \n",
    "|&=|Hook task/pypes in parallel in place|\n",
    "|<<|Fan outputs of tasks to next task|\n",
    "|>>|Aggregate outputs of previous task|\n",
    "\n",
    "\n",
    "Now let's look at some examples, but first let's define some stupid simple tasks: "
   ]
  },
  {
   "cell_type": "code",
   "execution_count": 15,
   "metadata": {
    "collapsed": true
   },
   "outputs": [],
   "source": [
    "import spype\n",
    "from spype import pype_input\n",
    "\n",
    "\n",
    "@spype.task\n",
    "def add_two(num: int) -> int:\n",
    "    return num + 2\n",
    "\n",
    "\n",
    "@spype.task\n",
    "def raise_two(num: int) -> int:\n",
    "    return num ** 2\n",
    "\n",
    "\n",
    "@spype.task\n",
    "def divide_two(num: int) -> int:\n",
    "    return num // 2\n",
    "\n",
    "\n",
    "@spype.task\n",
    "def divide_numbers(num1: int, num2: int) -> int:\n",
    "    return num1 // num2\n",
    "\n",
    "\n",
    "@spype.task\n",
    "def multiply_two(num: int) -> int:\n",
    "    return num * 2\n",
    "\n",
    "\n",
    "@spype.task\n",
    "def split_str(some_str: str) -> str:\n",
    "    return some_str.split()\n",
    "\n",
    "\n",
    "@spype.task\n",
    "def add_together(num1, num2):\n",
    "    return num1 + num2\n"
   ]
  },
  {
   "cell_type": "markdown",
   "metadata": {},
   "source": [
    "Tasks can be hooked together in series using the `|` operator, in which case the output of one task will be fed directly as the input to the next task."
   ]
  },
  {
   "cell_type": "code",
   "execution_count": 16,
   "metadata": {
    "collapsed": true
   },
   "outputs": [],
   "source": [
    "pype = spype.pype_input | add_two | multiply_two | raise_two"
   ]
  },
  {
   "cell_type": "markdown",
   "metadata": {},
   "source": [
    "### Pype Visualization\n",
    "The plot function is used to visualize the relationships between tasks in a pype. You need [graphviz](https://www.graphviz.org/) and python package called [graphviz](https://github.com/xflr6/graphviz) installed on your system. "
   ]
  },
  {
   "cell_type": "code",
   "execution_count": 17,
   "metadata": {},
   "outputs": [
    {
     "data": {
      "image/svg+xml": [
       "<?xml version=\"1.0\" encoding=\"UTF-8\" standalone=\"no\"?>\n",
       "<!DOCTYPE svg PUBLIC \"-//W3C//DTD SVG 1.1//EN\"\n",
       " \"http://www.w3.org/Graphics/SVG/1.1/DTD/svg11.dtd\">\n",
       "<!-- Generated by graphviz version 2.38.0 (20140413.2041)\n",
       " -->\n",
       "<!-- Title: %3 Pages: 1 -->\n",
       "<svg width=\"498pt\" height=\"44pt\"\n",
       " viewBox=\"0.00 0.00 498.17 44.00\" xmlns=\"http://www.w3.org/2000/svg\" xmlns:xlink=\"http://www.w3.org/1999/xlink\">\n",
       "<g id=\"graph0\" class=\"graph\" transform=\"scale(1 1) rotate(0) translate(4 40)\">\n",
       "<title>%3</title>\n",
       "<polygon fill=\"white\" stroke=\"none\" points=\"-4,4 -4,-40 494.166,-40 494.166,4 -4,4\"/>\n",
       "<!-- 139630665305280 -->\n",
       "<g id=\"node1\" class=\"node\"><title>139630665305280</title>\n",
       "<ellipse fill=\"none\" stroke=\"black\" cx=\"46.7958\" cy=\"-18\" rx=\"46.5926\" ry=\"18\"/>\n",
       "<text text-anchor=\"middle\" x=\"46.7958\" y=\"-14.3\" font-family=\"Times,serif\" font-size=\"14.00\">PypeInput</text>\n",
       "</g>\n",
       "<!-- 139630665305000 -->\n",
       "<g id=\"node2\" class=\"node\"><title>139630665305000</title>\n",
       "<ellipse fill=\"none\" stroke=\"black\" cx=\"170.538\" cy=\"-18\" rx=\"40.8928\" ry=\"18\"/>\n",
       "<text text-anchor=\"middle\" x=\"170.538\" y=\"-14.3\" font-family=\"Times,serif\" font-size=\"14.00\">add_two</text>\n",
       "</g>\n",
       "<!-- 139630665305280&#45;&gt;139630665305000 -->\n",
       "<g id=\"edge1\" class=\"edge\"><title>139630665305280&#45;&gt;139630665305000</title>\n",
       "<path fill=\"none\" stroke=\"black\" d=\"M93.8214,-18C102.151,-18 110.875,-18 119.318,-18\"/>\n",
       "<polygon fill=\"black\" stroke=\"black\" points=\"119.43,-21.5001 129.43,-18 119.43,-14.5001 119.43,-21.5001\"/>\n",
       "</g>\n",
       "<!-- 139630665304104 -->\n",
       "<g id=\"node3\" class=\"node\"><title>139630665304104</title>\n",
       "<ellipse fill=\"none\" stroke=\"black\" cx=\"305.979\" cy=\"-18\" rx=\"58.4896\" ry=\"18\"/>\n",
       "<text text-anchor=\"middle\" x=\"305.979\" y=\"-14.3\" font-family=\"Times,serif\" font-size=\"14.00\">multiply_two</text>\n",
       "</g>\n",
       "<!-- 139630665305000&#45;&gt;139630665304104 -->\n",
       "<g id=\"edge2\" class=\"edge\"><title>139630665305000&#45;&gt;139630665304104</title>\n",
       "<path fill=\"none\" stroke=\"black\" d=\"M211.575,-18C219.631,-18 228.308,-18 237.014,-18\"/>\n",
       "<polygon fill=\"black\" stroke=\"black\" points=\"237.211,-21.5001 247.211,-18 237.211,-14.5001 237.211,-21.5001\"/>\n",
       "</g>\n",
       "<!-- 139630666269416 -->\n",
       "<g id=\"node4\" class=\"node\"><title>139630666269416</title>\n",
       "<ellipse fill=\"none\" stroke=\"black\" cx=\"445.32\" cy=\"-18\" rx=\"44.6926\" ry=\"18\"/>\n",
       "<text text-anchor=\"middle\" x=\"445.32\" y=\"-14.3\" font-family=\"Times,serif\" font-size=\"14.00\">raise_two</text>\n",
       "</g>\n",
       "<!-- 139630665304104&#45;&gt;139630666269416 -->\n",
       "<g id=\"edge3\" class=\"edge\"><title>139630665304104&#45;&gt;139630666269416</title>\n",
       "<path fill=\"none\" stroke=\"black\" d=\"M364.826,-18C373.269,-18 381.936,-18 390.299,-18\"/>\n",
       "<polygon fill=\"black\" stroke=\"black\" points=\"390.314,-21.5001 400.314,-18 390.314,-14.5001 390.314,-21.5001\"/>\n",
       "</g>\n",
       "</g>\n",
       "</svg>\n"
      ],
      "text/plain": [
       "<graphviz.dot.Digraph at 0x7efe4c3946d8>"
      ]
     },
     "execution_count": 17,
     "metadata": {},
     "output_type": "execute_result"
    }
   ],
   "source": [
    "pype.plot()"
   ]
  },
  {
   "cell_type": "markdown",
   "metadata": {},
   "source": [
    "Notice the pype starts with a special task called `PypeInput`. This will always be the case. \n",
    "\n",
    "### Print Pype Outputs\n",
    "We can also turn on printing to better understand how data are flowing from task to task. To turn this feature on for the remainder of this python session this we will use spype.options. It can also be used as a context manager if you wanted to enable this feature temporarily (eg for debugging). "
   ]
  },
  {
   "cell_type": "code",
   "execution_count": 18,
   "metadata": {},
   "outputs": [
    {
     "name": "stdout",
     "output_type": "stream",
     "text": [
      "PypeInput got ((2,), {}) and returned (2,)\n",
      "add_two got ((2,), {}) and returned 4\n",
      "multiply_two got ((4,), {}) and returned 8\n",
      "raise_two got ((8,), {}) and returned 64\n"
     ]
    },
    {
     "data": {
      "text/plain": [
       "64"
      ]
     },
     "execution_count": 18,
     "metadata": {},
     "output_type": "execute_result"
    }
   ],
   "source": [
    "spype.options(print_flow=True)\n",
    "pype(2)"
   ]
  },
  {
   "cell_type": "markdown",
   "metadata": {},
   "source": [
    "Notice the structure of the data as it moves between tasks is (args, kwargs) where args is tuple of positional arguments and kwargs is a dict of named arguments. For example the input was ((2,), {}). This [SO question](https://stackoverflow.com/questions/3394835/args-and-kwargs) explains args and kwargs nicely if you are not familiar.\n",
    "\n",
    "### Mixing pypes and tasks\n",
    "\n",
    "We can also hook pypes together, or any combinations of pypes and tasks. "
   ]
  },
  {
   "cell_type": "code",
   "execution_count": 19,
   "metadata": {},
   "outputs": [
    {
     "name": "stdout",
     "output_type": "stream",
     "text": [
      "PypeInput got ((0,), {}) and returned (0,)\n",
      "add_two got ((0,), {}) and returned 2\n",
      "multiply_two got ((2,), {}) and returned 4\n",
      "raise_two got ((4,), {}) and returned 16\n"
     ]
    },
    {
     "data": {
      "image/svg+xml": [
       "<?xml version=\"1.0\" encoding=\"UTF-8\" standalone=\"no\"?>\n",
       "<!DOCTYPE svg PUBLIC \"-//W3C//DTD SVG 1.1//EN\"\n",
       " \"http://www.w3.org/Graphics/SVG/1.1/DTD/svg11.dtd\">\n",
       "<!-- Generated by graphviz version 2.38.0 (20140413.2041)\n",
       " -->\n",
       "<!-- Title: %3 Pages: 1 -->\n",
       "<svg width=\"498pt\" height=\"44pt\"\n",
       " viewBox=\"0.00 0.00 498.17 44.00\" xmlns=\"http://www.w3.org/2000/svg\" xmlns:xlink=\"http://www.w3.org/1999/xlink\">\n",
       "<g id=\"graph0\" class=\"graph\" transform=\"scale(1 1) rotate(0) translate(4 40)\">\n",
       "<title>%3</title>\n",
       "<polygon fill=\"white\" stroke=\"none\" points=\"-4,4 -4,-40 494.166,-40 494.166,4 -4,4\"/>\n",
       "<!-- 139630665410376 -->\n",
       "<g id=\"node1\" class=\"node\"><title>139630665410376</title>\n",
       "<ellipse fill=\"none\" stroke=\"black\" cx=\"46.7958\" cy=\"-18\" rx=\"46.5926\" ry=\"18\"/>\n",
       "<text text-anchor=\"middle\" x=\"46.7958\" y=\"-14.3\" font-family=\"Times,serif\" font-size=\"14.00\">PypeInput</text>\n",
       "</g>\n",
       "<!-- 139630665410488 -->\n",
       "<g id=\"node2\" class=\"node\"><title>139630665410488</title>\n",
       "<ellipse fill=\"none\" stroke=\"black\" cx=\"170.538\" cy=\"-18\" rx=\"40.8928\" ry=\"18\"/>\n",
       "<text text-anchor=\"middle\" x=\"170.538\" y=\"-14.3\" font-family=\"Times,serif\" font-size=\"14.00\">add_two</text>\n",
       "</g>\n",
       "<!-- 139630665410376&#45;&gt;139630665410488 -->\n",
       "<g id=\"edge1\" class=\"edge\"><title>139630665410376&#45;&gt;139630665410488</title>\n",
       "<path fill=\"none\" stroke=\"black\" d=\"M93.8214,-18C102.151,-18 110.875,-18 119.318,-18\"/>\n",
       "<polygon fill=\"black\" stroke=\"black\" points=\"119.43,-21.5001 129.43,-18 119.43,-14.5001 119.43,-21.5001\"/>\n",
       "</g>\n",
       "<!-- 139630665411216 -->\n",
       "<g id=\"node3\" class=\"node\"><title>139630665411216</title>\n",
       "<ellipse fill=\"none\" stroke=\"black\" cx=\"305.979\" cy=\"-18\" rx=\"58.4896\" ry=\"18\"/>\n",
       "<text text-anchor=\"middle\" x=\"305.979\" y=\"-14.3\" font-family=\"Times,serif\" font-size=\"14.00\">multiply_two</text>\n",
       "</g>\n",
       "<!-- 139630665410488&#45;&gt;139630665411216 -->\n",
       "<g id=\"edge2\" class=\"edge\"><title>139630665410488&#45;&gt;139630665411216</title>\n",
       "<path fill=\"none\" stroke=\"black\" d=\"M211.575,-18C219.631,-18 228.308,-18 237.014,-18\"/>\n",
       "<polygon fill=\"black\" stroke=\"black\" points=\"237.211,-21.5001 247.211,-18 237.211,-14.5001 237.211,-21.5001\"/>\n",
       "</g>\n",
       "<!-- 139630665305616 -->\n",
       "<g id=\"node4\" class=\"node\"><title>139630665305616</title>\n",
       "<ellipse fill=\"none\" stroke=\"black\" cx=\"445.32\" cy=\"-18\" rx=\"44.6926\" ry=\"18\"/>\n",
       "<text text-anchor=\"middle\" x=\"445.32\" y=\"-14.3\" font-family=\"Times,serif\" font-size=\"14.00\">raise_two</text>\n",
       "</g>\n",
       "<!-- 139630665411216&#45;&gt;139630665305616 -->\n",
       "<g id=\"edge3\" class=\"edge\"><title>139630665411216&#45;&gt;139630665305616</title>\n",
       "<path fill=\"none\" stroke=\"black\" d=\"M364.826,-18C373.269,-18 381.936,-18 390.299,-18\"/>\n",
       "<polygon fill=\"black\" stroke=\"black\" points=\"390.314,-21.5001 400.314,-18 390.314,-14.5001 390.314,-21.5001\"/>\n",
       "</g>\n",
       "</g>\n",
       "</svg>\n"
      ],
      "text/plain": [
       "<graphviz.dot.Digraph at 0x7efe4c348d30>"
      ]
     },
     "execution_count": 19,
     "metadata": {},
     "output_type": "execute_result"
    }
   ],
   "source": [
    "pype = spype.pype_input | add_two | multiply_two\n",
    "pype |= raise_two  # modfies pype1 by attaching raise_two at the end\n",
    "# pype1 and pype are equivelent\n",
    "pype(0)\n",
    "pype.plot()"
   ]
  },
  {
   "cell_type": "markdown",
   "metadata": {},
   "source": [
    "### Hooking pypes in parallel\n",
    "\n",
    "Pypes/tasks can be hooked in parallel using the `&` operator."
   ]
  },
  {
   "cell_type": "code",
   "execution_count": 20,
   "metadata": {},
   "outputs": [
    {
     "data": {
      "image/svg+xml": [
       "<?xml version=\"1.0\" encoding=\"UTF-8\" standalone=\"no\"?>\n",
       "<!DOCTYPE svg PUBLIC \"-//W3C//DTD SVG 1.1//EN\"\n",
       " \"http://www.w3.org/Graphics/SVG/1.1/DTD/svg11.dtd\">\n",
       "<!-- Generated by graphviz version 2.38.0 (20140413.2041)\n",
       " -->\n",
       "<!-- Title: %3 Pages: 1 -->\n",
       "<svg width=\"516pt\" height=\"98pt\"\n",
       " viewBox=\"0.00 0.00 516.36 98.00\" xmlns=\"http://www.w3.org/2000/svg\" xmlns:xlink=\"http://www.w3.org/1999/xlink\">\n",
       "<g id=\"graph0\" class=\"graph\" transform=\"scale(1 1) rotate(0) translate(4 94)\">\n",
       "<title>%3</title>\n",
       "<polygon fill=\"white\" stroke=\"none\" points=\"-4,4 -4,-94 512.364,-94 512.364,4 -4,4\"/>\n",
       "<!-- 139630665409368 -->\n",
       "<g id=\"node1\" class=\"node\"><title>139630665409368</title>\n",
       "<ellipse fill=\"none\" stroke=\"black\" cx=\"46.7958\" cy=\"-45\" rx=\"46.5926\" ry=\"18\"/>\n",
       "<text text-anchor=\"middle\" x=\"46.7958\" y=\"-41.3\" font-family=\"Times,serif\" font-size=\"14.00\">PypeInput</text>\n",
       "</g>\n",
       "<!-- 139630665409424 -->\n",
       "<g id=\"node2\" class=\"node\"><title>139630665409424</title>\n",
       "<ellipse fill=\"none\" stroke=\"black\" cx=\"179.637\" cy=\"-72\" rx=\"40.8928\" ry=\"18\"/>\n",
       "<text text-anchor=\"middle\" x=\"179.637\" y=\"-68.3\" font-family=\"Times,serif\" font-size=\"14.00\">add_two</text>\n",
       "</g>\n",
       "<!-- 139630665409368&#45;&gt;139630665409424 -->\n",
       "<g id=\"edge1\" class=\"edge\"><title>139630665409368&#45;&gt;139630665409424</title>\n",
       "<path fill=\"none\" stroke=\"black\" d=\"M88.4777,-53.395C102.241,-56.2351 117.717,-59.4288 131.912,-62.3579\"/>\n",
       "<polygon fill=\"black\" stroke=\"black\" points=\"131.478,-65.8419 141.979,-64.4352 132.892,-58.9864 131.478,-65.8419\"/>\n",
       "</g>\n",
       "<!-- 139630665304104 -->\n",
       "<g id=\"node5\" class=\"node\"><title>139630665304104</title>\n",
       "<ellipse fill=\"none\" stroke=\"black\" cx=\"179.637\" cy=\"-18\" rx=\"50.0912\" ry=\"18\"/>\n",
       "<text text-anchor=\"middle\" x=\"179.637\" y=\"-14.3\" font-family=\"Times,serif\" font-size=\"14.00\">divide_two</text>\n",
       "</g>\n",
       "<!-- 139630665409368&#45;&gt;139630665304104 -->\n",
       "<g id=\"edge4\" class=\"edge\"><title>139630665409368&#45;&gt;139630665304104</title>\n",
       "<path fill=\"none\" stroke=\"black\" d=\"M88.4777,-36.605C100.316,-34.1621 113.423,-31.4575 125.89,-28.8847\"/>\n",
       "<polygon fill=\"black\" stroke=\"black\" points=\"126.629,-32.306 135.716,-26.8572 125.215,-25.4505 126.629,-32.306\"/>\n",
       "</g>\n",
       "<!-- 139630665411552 -->\n",
       "<g id=\"node3\" class=\"node\"><title>139630665411552</title>\n",
       "<ellipse fill=\"none\" stroke=\"black\" cx=\"324.178\" cy=\"-72\" rx=\"58.4896\" ry=\"18\"/>\n",
       "<text text-anchor=\"middle\" x=\"324.178\" y=\"-68.3\" font-family=\"Times,serif\" font-size=\"14.00\">multiply_two</text>\n",
       "</g>\n",
       "<!-- 139630665409424&#45;&gt;139630665411552 -->\n",
       "<g id=\"edge2\" class=\"edge\"><title>139630665409424&#45;&gt;139630665411552</title>\n",
       "<path fill=\"none\" stroke=\"black\" d=\"M220.722,-72C231.485,-72 243.43,-72 255.253,-72\"/>\n",
       "<polygon fill=\"black\" stroke=\"black\" points=\"255.577,-75.5001 265.577,-72 255.577,-68.5001 255.577,-75.5001\"/>\n",
       "</g>\n",
       "<!-- 139630665408752 -->\n",
       "<g id=\"node4\" class=\"node\"><title>139630665408752</title>\n",
       "<ellipse fill=\"none\" stroke=\"black\" cx=\"463.518\" cy=\"-72\" rx=\"44.6926\" ry=\"18\"/>\n",
       "<text text-anchor=\"middle\" x=\"463.518\" y=\"-68.3\" font-family=\"Times,serif\" font-size=\"14.00\">raise_two</text>\n",
       "</g>\n",
       "<!-- 139630665411552&#45;&gt;139630665408752 -->\n",
       "<g id=\"edge3\" class=\"edge\"><title>139630665411552&#45;&gt;139630665408752</title>\n",
       "<path fill=\"none\" stroke=\"black\" d=\"M383.024,-72C391.468,-72 400.135,-72 408.498,-72\"/>\n",
       "<polygon fill=\"black\" stroke=\"black\" points=\"408.513,-75.5001 418.513,-72 408.512,-68.5001 408.513,-75.5001\"/>\n",
       "</g>\n",
       "</g>\n",
       "</svg>\n"
      ],
      "text/plain": [
       "<graphviz.dot.Digraph at 0x7efe4c348cc0>"
      ]
     },
     "execution_count": 20,
     "metadata": {},
     "output_type": "execute_result"
    }
   ],
   "source": [
    "pype2 = pype & divide_two\n",
    "pype2.plot()"
   ]
  },
  {
   "cell_type": "code",
   "execution_count": 21,
   "metadata": {},
   "outputs": [
    {
     "data": {
      "image/svg+xml": [
       "<?xml version=\"1.0\" encoding=\"UTF-8\" standalone=\"no\"?>\n",
       "<!DOCTYPE svg PUBLIC \"-//W3C//DTD SVG 1.1//EN\"\n",
       " \"http://www.w3.org/Graphics/SVG/1.1/DTD/svg11.dtd\">\n",
       "<!-- Generated by graphviz version 2.38.0 (20140413.2041)\n",
       " -->\n",
       "<!-- Title: %3 Pages: 1 -->\n",
       "<svg width=\"498pt\" height=\"98pt\"\n",
       " viewBox=\"0.00 0.00 498.17 98.00\" xmlns=\"http://www.w3.org/2000/svg\" xmlns:xlink=\"http://www.w3.org/1999/xlink\">\n",
       "<g id=\"graph0\" class=\"graph\" transform=\"scale(1 1) rotate(0) translate(4 94)\">\n",
       "<title>%3</title>\n",
       "<polygon fill=\"white\" stroke=\"none\" points=\"-4,4 -4,-94 494.166,-94 494.166,4 -4,4\"/>\n",
       "<!-- 139630665409032 -->\n",
       "<g id=\"node1\" class=\"node\"><title>139630665409032</title>\n",
       "<ellipse fill=\"none\" stroke=\"black\" cx=\"445.32\" cy=\"-18\" rx=\"44.6926\" ry=\"18\"/>\n",
       "<text text-anchor=\"middle\" x=\"445.32\" y=\"-14.3\" font-family=\"Times,serif\" font-size=\"14.00\">raise_two</text>\n",
       "</g>\n",
       "<!-- 139630665446736 -->\n",
       "<g id=\"node2\" class=\"node\"><title>139630665446736</title>\n",
       "<ellipse fill=\"none\" stroke=\"black\" cx=\"305.979\" cy=\"-72\" rx=\"58.4896\" ry=\"18\"/>\n",
       "<text text-anchor=\"middle\" x=\"305.979\" y=\"-68.3\" font-family=\"Times,serif\" font-size=\"14.00\">multiply_two</text>\n",
       "</g>\n",
       "<!-- 139630665446848 -->\n",
       "<g id=\"node5\" class=\"node\"><title>139630665446848</title>\n",
       "<ellipse fill=\"none\" stroke=\"black\" cx=\"445.32\" cy=\"-72\" rx=\"44.6926\" ry=\"18\"/>\n",
       "<text text-anchor=\"middle\" x=\"445.32\" y=\"-68.3\" font-family=\"Times,serif\" font-size=\"14.00\">raise_two</text>\n",
       "</g>\n",
       "<!-- 139630665446736&#45;&gt;139630665446848 -->\n",
       "<g id=\"edge5\" class=\"edge\"><title>139630665446736&#45;&gt;139630665446848</title>\n",
       "<path fill=\"none\" stroke=\"black\" d=\"M364.826,-72C373.269,-72 381.936,-72 390.299,-72\"/>\n",
       "<polygon fill=\"black\" stroke=\"black\" points=\"390.314,-75.5001 400.314,-72 390.314,-68.5001 390.314,-75.5001\"/>\n",
       "</g>\n",
       "<!-- 139630665409648 -->\n",
       "<g id=\"node3\" class=\"node\"><title>139630665409648</title>\n",
       "<ellipse fill=\"none\" stroke=\"black\" cx=\"305.979\" cy=\"-18\" rx=\"58.4896\" ry=\"18\"/>\n",
       "<text text-anchor=\"middle\" x=\"305.979\" y=\"-14.3\" font-family=\"Times,serif\" font-size=\"14.00\">multiply_two</text>\n",
       "</g>\n",
       "<!-- 139630665409648&#45;&gt;139630665409032 -->\n",
       "<g id=\"edge3\" class=\"edge\"><title>139630665409648&#45;&gt;139630665409032</title>\n",
       "<path fill=\"none\" stroke=\"black\" d=\"M364.826,-18C373.269,-18 381.936,-18 390.299,-18\"/>\n",
       "<polygon fill=\"black\" stroke=\"black\" points=\"390.314,-21.5001 400.314,-18 390.314,-14.5001 390.314,-21.5001\"/>\n",
       "</g>\n",
       "<!-- 139630665412280 -->\n",
       "<g id=\"node4\" class=\"node\"><title>139630665412280</title>\n",
       "<ellipse fill=\"none\" stroke=\"black\" cx=\"46.7958\" cy=\"-45\" rx=\"46.5926\" ry=\"18\"/>\n",
       "<text text-anchor=\"middle\" x=\"46.7958\" y=\"-41.3\" font-family=\"Times,serif\" font-size=\"14.00\">PypeInput</text>\n",
       "</g>\n",
       "<!-- 139630665446624 -->\n",
       "<g id=\"node6\" class=\"node\"><title>139630665446624</title>\n",
       "<ellipse fill=\"none\" stroke=\"black\" cx=\"170.538\" cy=\"-72\" rx=\"40.8928\" ry=\"18\"/>\n",
       "<text text-anchor=\"middle\" x=\"170.538\" y=\"-68.3\" font-family=\"Times,serif\" font-size=\"14.00\">add_two</text>\n",
       "</g>\n",
       "<!-- 139630665412280&#45;&gt;139630665446624 -->\n",
       "<g id=\"edge6\" class=\"edge\"><title>139630665412280&#45;&gt;139630665446624</title>\n",
       "<path fill=\"none\" stroke=\"black\" d=\"M87.6588,-53.8408C99.2526,-56.4121 112.005,-59.2404 123.924,-61.8837\"/>\n",
       "<polygon fill=\"black\" stroke=\"black\" points=\"123.175,-65.3025 133.696,-64.0508 124.691,-58.4686 123.175,-65.3025\"/>\n",
       "</g>\n",
       "<!-- 139630665412336 -->\n",
       "<g id=\"node7\" class=\"node\"><title>139630665412336</title>\n",
       "<ellipse fill=\"none\" stroke=\"black\" cx=\"170.538\" cy=\"-18\" rx=\"40.8928\" ry=\"18\"/>\n",
       "<text text-anchor=\"middle\" x=\"170.538\" y=\"-14.3\" font-family=\"Times,serif\" font-size=\"14.00\">add_two</text>\n",
       "</g>\n",
       "<!-- 139630665412280&#45;&gt;139630665412336 -->\n",
       "<g id=\"edge1\" class=\"edge\"><title>139630665412280&#45;&gt;139630665412336</title>\n",
       "<path fill=\"none\" stroke=\"black\" d=\"M87.6588,-36.1592C99.2526,-33.5879 112.005,-30.7596 123.924,-28.1163\"/>\n",
       "<polygon fill=\"black\" stroke=\"black\" points=\"124.691,-31.5314 133.696,-25.9492 123.175,-24.6975 124.691,-31.5314\"/>\n",
       "</g>\n",
       "<!-- 139630665446624&#45;&gt;139630665446736 -->\n",
       "<g id=\"edge4\" class=\"edge\"><title>139630665446624&#45;&gt;139630665446736</title>\n",
       "<path fill=\"none\" stroke=\"black\" d=\"M211.575,-72C219.631,-72 228.308,-72 237.014,-72\"/>\n",
       "<polygon fill=\"black\" stroke=\"black\" points=\"237.211,-75.5001 247.211,-72 237.211,-68.5001 237.211,-75.5001\"/>\n",
       "</g>\n",
       "<!-- 139630665412336&#45;&gt;139630665409648 -->\n",
       "<g id=\"edge2\" class=\"edge\"><title>139630665412336&#45;&gt;139630665409648</title>\n",
       "<path fill=\"none\" stroke=\"black\" d=\"M211.575,-18C219.631,-18 228.308,-18 237.014,-18\"/>\n",
       "<polygon fill=\"black\" stroke=\"black\" points=\"237.211,-21.5001 247.211,-18 237.211,-14.5001 237.211,-21.5001\"/>\n",
       "</g>\n",
       "</g>\n",
       "</svg>\n"
      ],
      "text/plain": [
       "<graphviz.dot.Digraph at 0x7efe4c394080>"
      ]
     },
     "execution_count": 21,
     "metadata": {},
     "output_type": "execute_result"
    }
   ],
   "source": [
    "pype3 = pype & pype\n",
    "pype3.plot()"
   ]
  },
  {
   "cell_type": "markdown",
   "metadata": {},
   "source": [
    "### Broadcasting and Merging tasks\n",
    "If you would like a pype/tasks output to be given as the input to several pypes/tasks (known as broadcasting), simply use a tuple. "
   ]
  },
  {
   "cell_type": "code",
   "execution_count": 22,
   "metadata": {},
   "outputs": [
    {
     "data": {
      "image/svg+xml": [
       "<?xml version=\"1.0\" encoding=\"UTF-8\" standalone=\"no\"?>\n",
       "<!DOCTYPE svg PUBLIC \"-//W3C//DTD SVG 1.1//EN\"\n",
       " \"http://www.w3.org/Graphics/SVG/1.1/DTD/svg11.dtd\">\n",
       "<!-- Generated by graphviz version 2.38.0 (20140413.2041)\n",
       " -->\n",
       "<!-- Title: %3 Pages: 1 -->\n",
       "<svg width=\"255pt\" height=\"98pt\"\n",
       " viewBox=\"0.00 0.00 254.58 98.00\" xmlns=\"http://www.w3.org/2000/svg\" xmlns:xlink=\"http://www.w3.org/1999/xlink\">\n",
       "<g id=\"graph0\" class=\"graph\" transform=\"scale(1 1) rotate(0) translate(4 94)\">\n",
       "<title>%3</title>\n",
       "<polygon fill=\"white\" stroke=\"none\" points=\"-4,4 -4,-94 250.581,-94 250.581,4 -4,4\"/>\n",
       "<!-- 139630665448472 -->\n",
       "<g id=\"node1\" class=\"node\"><title>139630665448472</title>\n",
       "<ellipse fill=\"none\" stroke=\"black\" cx=\"46.7958\" cy=\"-45\" rx=\"46.5926\" ry=\"18\"/>\n",
       "<text text-anchor=\"middle\" x=\"46.7958\" y=\"-41.3\" font-family=\"Times,serif\" font-size=\"14.00\">PypeInput</text>\n",
       "</g>\n",
       "<!-- 139630665449144 -->\n",
       "<g id=\"node2\" class=\"node\"><title>139630665449144</title>\n",
       "<ellipse fill=\"none\" stroke=\"black\" cx=\"188.087\" cy=\"-72\" rx=\"50.0912\" ry=\"18\"/>\n",
       "<text text-anchor=\"middle\" x=\"188.087\" y=\"-68.3\" font-family=\"Times,serif\" font-size=\"14.00\">divide_two</text>\n",
       "</g>\n",
       "<!-- 139630665448472&#45;&gt;139630665449144 -->\n",
       "<g id=\"edge1\" class=\"edge\"><title>139630665448472&#45;&gt;139630665449144</title>\n",
       "<path fill=\"none\" stroke=\"black\" d=\"M88.8343,-52.9549C102.787,-55.6595 118.595,-58.7236 133.388,-61.5911\"/>\n",
       "<polygon fill=\"black\" stroke=\"black\" points=\"132.949,-65.071 143.432,-63.538 134.281,-58.199 132.949,-65.071\"/>\n",
       "</g>\n",
       "<!-- 139630665449200 -->\n",
       "<g id=\"node3\" class=\"node\"><title>139630665449200</title>\n",
       "<ellipse fill=\"none\" stroke=\"black\" cx=\"188.087\" cy=\"-18\" rx=\"58.4896\" ry=\"18\"/>\n",
       "<text text-anchor=\"middle\" x=\"188.087\" y=\"-14.3\" font-family=\"Times,serif\" font-size=\"14.00\">multiply_two</text>\n",
       "</g>\n",
       "<!-- 139630665448472&#45;&gt;139630665449200 -->\n",
       "<g id=\"edge2\" class=\"edge\"><title>139630665448472&#45;&gt;139630665449200</title>\n",
       "<path fill=\"none\" stroke=\"black\" d=\"M88.8343,-37.0451C101.176,-34.6528 114.969,-31.9792 128.227,-29.4093\"/>\n",
       "<polygon fill=\"black\" stroke=\"black\" points=\"129.078,-32.8096 138.229,-27.4706 127.745,-25.9376 129.078,-32.8096\"/>\n",
       "</g>\n",
       "</g>\n",
       "</svg>\n"
      ],
      "text/plain": [
       "<graphviz.dot.Digraph at 0x7efe4c362160>"
      ]
     },
     "execution_count": 22,
     "metadata": {},
     "output_type": "execute_result"
    }
   ],
   "source": [
    "pype = spype.pype_input | (multiply_two, divide_two)\n",
    "pype.plot()"
   ]
  },
  {
   "cell_type": "markdown",
   "metadata": {},
   "source": [
    "Which results in the following execution:"
   ]
  },
  {
   "cell_type": "code",
   "execution_count": 23,
   "metadata": {},
   "outputs": [
    {
     "name": "stdout",
     "output_type": "stream",
     "text": [
      "PypeInput got ((2,), {}) and returned (2,)\n",
      "multiply_two got ((2,), {}) and returned 4\n",
      "divide_two got ((2,), {}) and returned 1\n"
     ]
    },
    {
     "data": {
      "text/plain": [
       "1"
      ]
     },
     "execution_count": 23,
     "metadata": {},
     "output_type": "execute_result"
    }
   ],
   "source": [
    "pype(2)"
   ]
  },
  {
   "cell_type": "markdown",
   "metadata": {},
   "source": [
    "And the merging can also be done via a tuple"
   ]
  },
  {
   "cell_type": "code",
   "execution_count": 24,
   "metadata": {},
   "outputs": [
    {
     "data": {
      "image/svg+xml": [
       "<?xml version=\"1.0\" encoding=\"UTF-8\" standalone=\"no\"?>\n",
       "<!DOCTYPE svg PUBLIC \"-//W3C//DTD SVG 1.1//EN\"\n",
       " \"http://www.w3.org/Graphics/SVG/1.1/DTD/svg11.dtd\">\n",
       "<!-- Generated by graphviz version 2.38.0 (20140413.2041)\n",
       " -->\n",
       "<!-- Title: %3 Pages: 1 -->\n",
       "<svg width=\"391pt\" height=\"98pt\"\n",
       " viewBox=\"0.00 0.00 390.67 98.00\" xmlns=\"http://www.w3.org/2000/svg\" xmlns:xlink=\"http://www.w3.org/1999/xlink\">\n",
       "<g id=\"graph0\" class=\"graph\" transform=\"scale(1 1) rotate(0) translate(4 94)\">\n",
       "<title>%3</title>\n",
       "<polygon fill=\"white\" stroke=\"none\" points=\"-4,4 -4,-94 386.672,-94 386.672,4 -4,4\"/>\n",
       "<!-- 139630665430240 -->\n",
       "<g id=\"node1\" class=\"node\"><title>139630665430240</title>\n",
       "<ellipse fill=\"none\" stroke=\"black\" cx=\"46.7958\" cy=\"-45\" rx=\"46.5926\" ry=\"18\"/>\n",
       "<text text-anchor=\"middle\" x=\"46.7958\" y=\"-41.3\" font-family=\"Times,serif\" font-size=\"14.00\">PypeInput</text>\n",
       "</g>\n",
       "<!-- 139630665430352 -->\n",
       "<g id=\"node2\" class=\"node\"><title>139630665430352</title>\n",
       "<ellipse fill=\"none\" stroke=\"black\" cx=\"188.087\" cy=\"-72\" rx=\"44.6926\" ry=\"18\"/>\n",
       "<text text-anchor=\"middle\" x=\"188.087\" y=\"-68.3\" font-family=\"Times,serif\" font-size=\"14.00\">raise_two</text>\n",
       "</g>\n",
       "<!-- 139630665430240&#45;&gt;139630665430352 -->\n",
       "<g id=\"edge1\" class=\"edge\"><title>139630665430240&#45;&gt;139630665430352</title>\n",
       "<path fill=\"none\" stroke=\"black\" d=\"M88.8343,-52.9549C103.975,-55.8897 121.299,-59.2478 137.141,-62.3186\"/>\n",
       "<polygon fill=\"black\" stroke=\"black\" points=\"136.816,-65.8207 147.3,-64.2877 138.148,-58.9486 136.816,-65.8207\"/>\n",
       "</g>\n",
       "<!-- 139630665430464 -->\n",
       "<g id=\"node3\" class=\"node\"><title>139630665430464</title>\n",
       "<ellipse fill=\"none\" stroke=\"black\" cx=\"188.087\" cy=\"-18\" rx=\"58.4896\" ry=\"18\"/>\n",
       "<text text-anchor=\"middle\" x=\"188.087\" y=\"-14.3\" font-family=\"Times,serif\" font-size=\"14.00\">multiply_two</text>\n",
       "</g>\n",
       "<!-- 139630665430240&#45;&gt;139630665430464 -->\n",
       "<g id=\"edge2\" class=\"edge\"><title>139630665430240&#45;&gt;139630665430464</title>\n",
       "<path fill=\"none\" stroke=\"black\" d=\"M88.8343,-37.0451C101.176,-34.6528 114.969,-31.9792 128.227,-29.4093\"/>\n",
       "<polygon fill=\"black\" stroke=\"black\" points=\"129.078,-32.8096 138.229,-27.4706 127.745,-25.9376 129.078,-32.8096\"/>\n",
       "</g>\n",
       "<!-- 139630665431192 -->\n",
       "<g id=\"node4\" class=\"node\"><title>139630665431192</title>\n",
       "<ellipse fill=\"none\" stroke=\"black\" cx=\"332.627\" cy=\"-45\" rx=\"50.0912\" ry=\"18\"/>\n",
       "<text text-anchor=\"middle\" x=\"332.627\" y=\"-41.3\" font-family=\"Times,serif\" font-size=\"14.00\">divide_two</text>\n",
       "</g>\n",
       "<!-- 139630665430352&#45;&gt;139630665431192 -->\n",
       "<g id=\"edge4\" class=\"edge\"><title>139630665430352&#45;&gt;139630665431192</title>\n",
       "<path fill=\"none\" stroke=\"black\" d=\"M229.171,-64.4071C244.378,-61.5267 261.944,-58.1994 278.189,-55.1223\"/>\n",
       "<polygon fill=\"black\" stroke=\"black\" points=\"278.926,-58.5449 288.1,-53.2449 277.623,-51.6672 278.926,-58.5449\"/>\n",
       "</g>\n",
       "<!-- 139630665430464&#45;&gt;139630665431192 -->\n",
       "<g id=\"edge3\" class=\"edge\"><title>139630665430464&#45;&gt;139630665431192</title>\n",
       "<path fill=\"none\" stroke=\"black\" d=\"M238.54,-27.3675C251.23,-29.7711 264.94,-32.3682 277.837,-34.8111\"/>\n",
       "<polygon fill=\"black\" stroke=\"black\" points=\"277.494,-38.3082 287.97,-36.7306 278.796,-31.4305 277.494,-38.3082\"/>\n",
       "</g>\n",
       "</g>\n",
       "</svg>\n"
      ],
      "text/plain": [
       "<graphviz.dot.Digraph at 0x7efe4c36ba20>"
      ]
     },
     "execution_count": 24,
     "metadata": {},
     "output_type": "execute_result"
    }
   ],
   "source": [
    "pype = spype.pype_input | (multiply_two, raise_two) | divide_two\n",
    "pype.plot()"
   ]
  },
  {
   "cell_type": "markdown",
   "metadata": {},
   "source": [
    "and the excution looks like this:"
   ]
  },
  {
   "cell_type": "code",
   "execution_count": 25,
   "metadata": {},
   "outputs": [
    {
     "name": "stdout",
     "output_type": "stream",
     "text": [
      "PypeInput got ((2,), {}) and returned (2,)\n",
      "raise_two got ((2,), {}) and returned 4\n",
      "divide_two got ((4,), {}) and returned 2\n",
      "multiply_two got ((2,), {}) and returned 4\n",
      "divide_two got ((4,), {}) and returned 2\n"
     ]
    },
    {
     "data": {
      "text/plain": [
       "2"
      ]
     },
     "execution_count": 25,
     "metadata": {},
     "output_type": "execute_result"
    }
   ],
   "source": [
    "pype(2)"
   ]
  },
  {
   "cell_type": "markdown",
   "metadata": {},
   "source": [
    "Here is an unnecessarily complex example:"
   ]
  },
  {
   "cell_type": "code",
   "execution_count": 26,
   "metadata": {},
   "outputs": [
    {
     "data": {
      "image/svg+xml": [
       "<?xml version=\"1.0\" encoding=\"UTF-8\" standalone=\"no\"?>\n",
       "<!DOCTYPE svg PUBLIC \"-//W3C//DTD SVG 1.1//EN\"\n",
       " \"http://www.w3.org/Graphics/SVG/1.1/DTD/svg11.dtd\">\n",
       "<!-- Generated by graphviz version 2.38.0 (20140413.2041)\n",
       " -->\n",
       "<!-- Title: %3 Pages: 1 -->\n",
       "<svg width=\"997pt\" height=\"260pt\"\n",
       " viewBox=\"0.00 0.00 997.03 260.00\" xmlns=\"http://www.w3.org/2000/svg\" xmlns:xlink=\"http://www.w3.org/1999/xlink\">\n",
       "<g id=\"graph0\" class=\"graph\" transform=\"scale(1 1) rotate(0) translate(4 256)\">\n",
       "<title>%3</title>\n",
       "<polygon fill=\"white\" stroke=\"none\" points=\"-4,4 -4,-256 993.035,-256 993.035,4 -4,4\"/>\n",
       "<!-- 139630665447632 -->\n",
       "<g id=\"node1\" class=\"node\"><title>139630665447632</title>\n",
       "<ellipse fill=\"none\" stroke=\"black\" cx=\"306.629\" cy=\"-23\" rx=\"40.8928\" ry=\"18\"/>\n",
       "<text text-anchor=\"middle\" x=\"306.629\" y=\"-19.3\" font-family=\"Times,serif\" font-size=\"14.00\">add_two</text>\n",
       "</g>\n",
       "<!-- 139630665085280 -->\n",
       "<g id=\"node3\" class=\"node\"><title>139630665085280</title>\n",
       "<ellipse fill=\"none\" stroke=\"black\" cx=\"428.422\" cy=\"-19\" rx=\"44.6926\" ry=\"18\"/>\n",
       "<text text-anchor=\"middle\" x=\"428.422\" y=\"-15.3\" font-family=\"Times,serif\" font-size=\"14.00\">raise_two</text>\n",
       "</g>\n",
       "<!-- 139630665447632&#45;&gt;139630665085280 -->\n",
       "<g id=\"edge11\" class=\"edge\"><title>139630665447632&#45;&gt;139630665085280</title>\n",
       "<path fill=\"none\" stroke=\"black\" d=\"M347.518,-21.6681C355.835,-21.3904 364.732,-21.0933 373.46,-20.8018\"/>\n",
       "<polygon fill=\"black\" stroke=\"black\" points=\"373.705,-24.2957 383.583,-20.4638 373.472,-17.2996 373.705,-24.2957\"/>\n",
       "</g>\n",
       "<!-- 139630665485448 -->\n",
       "<g id=\"node2\" class=\"node\"><title>139630665485448</title>\n",
       "<ellipse fill=\"none\" stroke=\"black\" cx=\"554.114\" cy=\"-228\" rx=\"44.6926\" ry=\"18\"/>\n",
       "<text text-anchor=\"middle\" x=\"554.114\" y=\"-224.3\" font-family=\"Times,serif\" font-size=\"14.00\">raise_two</text>\n",
       "</g>\n",
       "<!-- 139630665085616 -->\n",
       "<g id=\"node6\" class=\"node\"><title>139630665085616</title>\n",
       "<ellipse fill=\"none\" stroke=\"black\" cx=\"675.906\" cy=\"-234\" rx=\"40.8928\" ry=\"18\"/>\n",
       "<text text-anchor=\"middle\" x=\"675.906\" y=\"-230.3\" font-family=\"Times,serif\" font-size=\"14.00\">add_two</text>\n",
       "</g>\n",
       "<!-- 139630665485448&#45;&gt;139630665085616 -->\n",
       "<g id=\"edge4\" class=\"edge\"><title>139630665485448&#45;&gt;139630665085616</title>\n",
       "<path fill=\"none\" stroke=\"black\" d=\"M598.7,-230.183C607.259,-230.612 616.299,-231.065 625.045,-231.503\"/>\n",
       "<polygon fill=\"black\" stroke=\"black\" points=\"624.967,-235.003 635.13,-232.008 625.318,-228.012 624.967,-235.003\"/>\n",
       "</g>\n",
       "<!-- 139630665085952 -->\n",
       "<g id=\"node9\" class=\"node\"><title>139630665085952</title>\n",
       "<ellipse fill=\"none\" stroke=\"black\" cx=\"554.114\" cy=\"-18\" rx=\"44.6926\" ry=\"18\"/>\n",
       "<text text-anchor=\"middle\" x=\"554.114\" y=\"-14.3\" font-family=\"Times,serif\" font-size=\"14.00\">raise_two</text>\n",
       "</g>\n",
       "<!-- 139630665085280&#45;&gt;139630665085952 -->\n",
       "<g id=\"edge12\" class=\"edge\"><title>139630665085280&#45;&gt;139630665085952</title>\n",
       "<path fill=\"none\" stroke=\"black\" d=\"M473.379,-18.6446C481.574,-18.5784 490.227,-18.5084 498.692,-18.44\"/>\n",
       "<polygon fill=\"black\" stroke=\"black\" points=\"498.91,-21.9384 508.881,-18.3576 498.853,-14.9387 498.91,-21.9384\"/>\n",
       "</g>\n",
       "<!-- 139630665085392 -->\n",
       "<g id=\"node4\" class=\"node\"><title>139630665085392</title>\n",
       "<ellipse fill=\"none\" stroke=\"black\" cx=\"46.7958\" cy=\"-72\" rx=\"46.5926\" ry=\"18\"/>\n",
       "<text text-anchor=\"middle\" x=\"46.7958\" y=\"-68.3\" font-family=\"Times,serif\" font-size=\"14.00\">PypeInput</text>\n",
       "</g>\n",
       "<!-- 139630665086064 -->\n",
       "<g id=\"node10\" class=\"node\"><title>139630665086064</title>\n",
       "<ellipse fill=\"none\" stroke=\"black\" cx=\"179.637\" cy=\"-126\" rx=\"40.8928\" ry=\"18\"/>\n",
       "<text text-anchor=\"middle\" x=\"179.637\" y=\"-122.3\" font-family=\"Times,serif\" font-size=\"14.00\">add_two</text>\n",
       "</g>\n",
       "<!-- 139630665085392&#45;&gt;139630665086064 -->\n",
       "<g id=\"edge1\" class=\"edge\"><title>139630665085392&#45;&gt;139630665086064</title>\n",
       "<path fill=\"none\" stroke=\"black\" d=\"M79.4689,-85.0719C97.5848,-92.5486 120.455,-101.987 139.666,-109.916\"/>\n",
       "<polygon fill=\"black\" stroke=\"black\" points=\"138.471,-113.209 149.049,-113.789 141.141,-106.738 138.471,-113.209\"/>\n",
       "</g>\n",
       "<!-- 139630664989496 -->\n",
       "<g id=\"node20\" class=\"node\"><title>139630664989496</title>\n",
       "<ellipse fill=\"none\" stroke=\"black\" cx=\"179.637\" cy=\"-72\" rx=\"50.0912\" ry=\"18\"/>\n",
       "<text text-anchor=\"middle\" x=\"179.637\" y=\"-68.3\" font-family=\"Times,serif\" font-size=\"14.00\">divide_two</text>\n",
       "</g>\n",
       "<!-- 139630665085392&#45;&gt;139630664989496 -->\n",
       "<g id=\"edge29\" class=\"edge\"><title>139630665085392&#45;&gt;139630664989496</title>\n",
       "<path fill=\"none\" stroke=\"black\" d=\"M93.9256,-72C102.085,-72 110.685,-72 119.151,-72\"/>\n",
       "<polygon fill=\"black\" stroke=\"black\" points=\"119.373,-75.5001 129.373,-72 119.373,-68.5001 119.373,-75.5001\"/>\n",
       "</g>\n",
       "<!-- 139630665088248 -->\n",
       "<g id=\"node21\" class=\"node\"><title>139630665088248</title>\n",
       "<ellipse fill=\"none\" stroke=\"black\" cx=\"179.637\" cy=\"-18\" rx=\"40.8928\" ry=\"18\"/>\n",
       "<text text-anchor=\"middle\" x=\"179.637\" y=\"-14.3\" font-family=\"Times,serif\" font-size=\"14.00\">add_two</text>\n",
       "</g>\n",
       "<!-- 139630665085392&#45;&gt;139630665088248 -->\n",
       "<g id=\"edge30\" class=\"edge\"><title>139630665085392&#45;&gt;139630665088248</title>\n",
       "<path fill=\"none\" stroke=\"black\" d=\"M79.4689,-58.9281C97.5848,-51.4514 120.455,-42.0126 139.666,-34.0839\"/>\n",
       "<polygon fill=\"black\" stroke=\"black\" points=\"141.141,-37.2616 149.049,-30.2113 138.471,-30.791 141.141,-37.2616\"/>\n",
       "</g>\n",
       "<!-- 139630665085504 -->\n",
       "<g id=\"node5\" class=\"node\"><title>139630665085504</title>\n",
       "<ellipse fill=\"none\" stroke=\"black\" cx=\"306.629\" cy=\"-79\" rx=\"40.8928\" ry=\"18\"/>\n",
       "<text text-anchor=\"middle\" x=\"306.629\" y=\"-75.3\" font-family=\"Times,serif\" font-size=\"14.00\">add_two</text>\n",
       "</g>\n",
       "<!-- 139630665086176 -->\n",
       "<g id=\"node11\" class=\"node\"><title>139630665086176</title>\n",
       "<ellipse fill=\"none\" stroke=\"black\" cx=\"675.906\" cy=\"-72\" rx=\"40.8928\" ry=\"18\"/>\n",
       "<text text-anchor=\"middle\" x=\"675.906\" y=\"-68.3\" font-family=\"Times,serif\" font-size=\"14.00\">add_two</text>\n",
       "</g>\n",
       "<!-- 139630665085504&#45;&gt;139630665086176 -->\n",
       "<g id=\"edge6\" class=\"edge\"><title>139630665085504&#45;&gt;139630665086176</title>\n",
       "<path fill=\"none\" stroke=\"black\" d=\"M347.633,-78.2376C414.971,-76.9542 550.81,-74.3652 624.539,-72.9599\"/>\n",
       "<polygon fill=\"black\" stroke=\"black\" points=\"625.02,-76.4515 634.951,-72.7615 624.886,-69.4528 625.02,-76.4515\"/>\n",
       "</g>\n",
       "<!-- 139630665086736 -->\n",
       "<g id=\"node16\" class=\"node\"><title>139630665086736</title>\n",
       "<ellipse fill=\"none\" stroke=\"black\" cx=\"802.898\" cy=\"-153\" rx=\"40.8928\" ry=\"18\"/>\n",
       "<text text-anchor=\"middle\" x=\"802.898\" y=\"-149.3\" font-family=\"Times,serif\" font-size=\"14.00\">add_two</text>\n",
       "</g>\n",
       "<!-- 139630665085616&#45;&gt;139630665086736 -->\n",
       "<g id=\"edge17\" class=\"edge\"><title>139630665085616&#45;&gt;139630665086736</title>\n",
       "<path fill=\"none\" stroke=\"black\" d=\"M699.831,-219.143C719.653,-206.298 748.496,-187.606 770.469,-173.367\"/>\n",
       "<polygon fill=\"black\" stroke=\"black\" points=\"772.629,-176.138 779.118,-167.762 768.822,-170.264 772.629,-176.138\"/>\n",
       "</g>\n",
       "<!-- 139630665086848 -->\n",
       "<g id=\"node17\" class=\"node\"><title>139630665086848</title>\n",
       "<ellipse fill=\"none\" stroke=\"black\" cx=\"802.898\" cy=\"-99\" rx=\"50.0912\" ry=\"18\"/>\n",
       "<text text-anchor=\"middle\" x=\"802.898\" y=\"-95.3\" font-family=\"Times,serif\" font-size=\"14.00\">divide_two</text>\n",
       "</g>\n",
       "<!-- 139630665085616&#45;&gt;139630665086848 -->\n",
       "<g id=\"edge22\" class=\"edge\"><title>139630665085616&#45;&gt;139630665086848</title>\n",
       "<path fill=\"none\" stroke=\"black\" d=\"M702.322,-219.959C707.587,-216.237 712.767,-211.877 716.852,-207 742.151,-176.801 726.204,-155.015 752.852,-126 755.402,-123.224 758.305,-120.669 761.395,-118.332\"/>\n",
       "<polygon fill=\"black\" stroke=\"black\" points=\"763.527,-121.118 769.9,-112.654 759.64,-115.296 763.527,-121.118\"/>\n",
       "</g>\n",
       "<!-- 139630665085728 -->\n",
       "<g id=\"node7\" class=\"node\"><title>139630665085728</title>\n",
       "<ellipse fill=\"none\" stroke=\"black\" cx=\"675.906\" cy=\"-180\" rx=\"40.8928\" ry=\"18\"/>\n",
       "<text text-anchor=\"middle\" x=\"675.906\" y=\"-176.3\" font-family=\"Times,serif\" font-size=\"14.00\">add_two</text>\n",
       "</g>\n",
       "<!-- 139630665085728&#45;&gt;139630665086736 -->\n",
       "<g id=\"edge19\" class=\"edge\"><title>139630665085728&#45;&gt;139630665086736</title>\n",
       "<path fill=\"none\" stroke=\"black\" d=\"M713.059,-172.19C726.403,-169.308 741.708,-166.002 755.813,-162.955\"/>\n",
       "<polygon fill=\"black\" stroke=\"black\" points=\"756.791,-166.325 765.826,-160.792 755.313,-159.482 756.791,-166.325\"/>\n",
       "</g>\n",
       "<!-- 139630665085728&#45;&gt;139630665086848 -->\n",
       "<g id=\"edge24\" class=\"edge\"><title>139630665085728&#45;&gt;139630665086848</title>\n",
       "<path fill=\"none\" stroke=\"black\" d=\"M699.434,-165.055C705.154,-161.184 711.262,-156.982 716.852,-153 733.142,-141.397 736.051,-136.849 752.852,-126 756.629,-123.561 760.642,-121.123 764.682,-118.763\"/>\n",
       "<polygon fill=\"black\" stroke=\"black\" points=\"766.526,-121.741 773.49,-113.757 763.067,-115.656 766.526,-121.741\"/>\n",
       "</g>\n",
       "<!-- 139630665085840 -->\n",
       "<g id=\"node8\" class=\"node\"><title>139630665085840</title>\n",
       "<ellipse fill=\"none\" stroke=\"black\" cx=\"675.906\" cy=\"-126\" rx=\"40.8928\" ry=\"18\"/>\n",
       "<text text-anchor=\"middle\" x=\"675.906\" y=\"-122.3\" font-family=\"Times,serif\" font-size=\"14.00\">add_two</text>\n",
       "</g>\n",
       "<!-- 139630665085840&#45;&gt;139630665086736 -->\n",
       "<g id=\"edge15\" class=\"edge\"><title>139630665085840&#45;&gt;139630665086736</title>\n",
       "<path fill=\"none\" stroke=\"black\" d=\"M713.059,-133.81C726.403,-136.692 741.708,-139.998 755.813,-143.045\"/>\n",
       "<polygon fill=\"black\" stroke=\"black\" points=\"755.313,-146.518 765.826,-145.208 756.791,-139.675 755.313,-146.518\"/>\n",
       "</g>\n",
       "<!-- 139630665085840&#45;&gt;139630665086848 -->\n",
       "<g id=\"edge20\" class=\"edge\"><title>139630665085840&#45;&gt;139630665086848</title>\n",
       "<path fill=\"none\" stroke=\"black\" d=\"M713.059,-118.19C724.437,-115.733 737.241,-112.967 749.511,-110.316\"/>\n",
       "<polygon fill=\"black\" stroke=\"black\" points=\"750.614,-113.659 759.649,-108.126 749.136,-106.817 750.614,-113.659\"/>\n",
       "</g>\n",
       "<!-- 139630665086400 -->\n",
       "<g id=\"node13\" class=\"node\"><title>139630665086400</title>\n",
       "<ellipse fill=\"none\" stroke=\"black\" cx=\"675.906\" cy=\"-18\" rx=\"40.8928\" ry=\"18\"/>\n",
       "<text text-anchor=\"middle\" x=\"675.906\" y=\"-14.3\" font-family=\"Times,serif\" font-size=\"14.00\">add_two</text>\n",
       "</g>\n",
       "<!-- 139630665085952&#45;&gt;139630665086400 -->\n",
       "<g id=\"edge13\" class=\"edge\"><title>139630665085952&#45;&gt;139630665086400</title>\n",
       "<path fill=\"none\" stroke=\"black\" d=\"M599.04,-18C607.395,-18 616.197,-18 624.729,-18\"/>\n",
       "<polygon fill=\"black\" stroke=\"black\" points=\"624.954,-21.5001 634.954,-18 624.954,-14.5001 624.954,-21.5001\"/>\n",
       "</g>\n",
       "<!-- 139630665086064&#45;&gt;139630665447632 -->\n",
       "<g id=\"edge14\" class=\"edge\"><title>139630665086064&#45;&gt;139630665447632</title>\n",
       "<path fill=\"none\" stroke=\"black\" d=\"M208.667,-113.163C215.907,-109.173 223.418,-104.387 229.683,-99 249.634,-81.8447 246.84,-70.3652 265.683,-52 268.502,-49.2522 271.596,-46.5568 274.775,-43.9834\"/>\n",
       "<polygon fill=\"black\" stroke=\"black\" points=\"276.935,-46.7376 282.744,-37.8777 272.678,-41.1809 276.935,-46.7376\"/>\n",
       "</g>\n",
       "<!-- 139630665086064&#45;&gt;139630665085504 -->\n",
       "<g id=\"edge7\" class=\"edge\"><title>139630665086064&#45;&gt;139630665085504</title>\n",
       "<path fill=\"none\" stroke=\"black\" d=\"M211.214,-114.503C227.556,-108.357 247.88,-100.715 265.48,-94.0971\"/>\n",
       "<polygon fill=\"black\" stroke=\"black\" points=\"266.807,-97.3374 274.935,-90.5417 264.343,-90.7853 266.807,-97.3374\"/>\n",
       "</g>\n",
       "<!-- 139630665086064&#45;&gt;139630665085728 -->\n",
       "<g id=\"edge8\" class=\"edge\"><title>139630665086064&#45;&gt;139630665085728</title>\n",
       "<path fill=\"none\" stroke=\"black\" d=\"M217.83,-132.564C232.687,-135.071 249.969,-137.842 265.683,-140 394.691,-157.719 547.632,-170.496 624.893,-176.377\"/>\n",
       "<polygon fill=\"black\" stroke=\"black\" points=\"625.047,-179.899 635.282,-177.161 625.573,-172.919 625.047,-179.899\"/>\n",
       "</g>\n",
       "<!-- 139630665086288 -->\n",
       "<g id=\"node12\" class=\"node\"><title>139630665086288</title>\n",
       "<ellipse fill=\"none\" stroke=\"black\" cx=\"306.629\" cy=\"-225\" rx=\"40.8928\" ry=\"18\"/>\n",
       "<text text-anchor=\"middle\" x=\"306.629\" y=\"-221.3\" font-family=\"Times,serif\" font-size=\"14.00\">add_two</text>\n",
       "</g>\n",
       "<!-- 139630665086064&#45;&gt;139630665086288 -->\n",
       "<g id=\"edge5\" class=\"edge\"><title>139630665086064&#45;&gt;139630665086288</title>\n",
       "<path fill=\"none\" stroke=\"black\" d=\"M200.443,-141.687C221.379,-158.269 254.558,-184.549 278.048,-203.154\"/>\n",
       "<polygon fill=\"black\" stroke=\"black\" points=\"275.904,-205.921 285.916,-209.387 280.251,-200.434 275.904,-205.921\"/>\n",
       "</g>\n",
       "<!-- 139630665086624 -->\n",
       "<g id=\"node15\" class=\"node\"><title>139630665086624</title>\n",
       "<ellipse fill=\"none\" stroke=\"black\" cx=\"428.422\" cy=\"-126\" rx=\"40.8928\" ry=\"18\"/>\n",
       "<text text-anchor=\"middle\" x=\"428.422\" y=\"-122.3\" font-family=\"Times,serif\" font-size=\"14.00\">add_two</text>\n",
       "</g>\n",
       "<!-- 139630665086064&#45;&gt;139630665086624 -->\n",
       "<g id=\"edge10\" class=\"edge\"><title>139630665086064&#45;&gt;139630665086624</title>\n",
       "<path fill=\"none\" stroke=\"black\" d=\"M220.837,-126C263.501,-126 331.003,-126 377.154,-126\"/>\n",
       "<polygon fill=\"black\" stroke=\"black\" points=\"377.239,-129.5 387.239,-126 377.239,-122.5 377.239,-129.5\"/>\n",
       "</g>\n",
       "<!-- 139630665086176&#45;&gt;139630665086736 -->\n",
       "<g id=\"edge18\" class=\"edge\"><title>139630665086176&#45;&gt;139630665086736</title>\n",
       "<path fill=\"none\" stroke=\"black\" d=\"M699.434,-86.9449C705.154,-90.8164 711.262,-95.0177 716.852,-99 733.142,-110.603 736.051,-115.151 752.852,-126 757.231,-128.827 761.927,-131.655 766.616,-134.359\"/>\n",
       "<polygon fill=\"black\" stroke=\"black\" points=\"765.106,-137.525 775.538,-139.373 768.535,-131.422 765.106,-137.525\"/>\n",
       "</g>\n",
       "<!-- 139630665086176&#45;&gt;139630665086848 -->\n",
       "<g id=\"edge23\" class=\"edge\"><title>139630665086176&#45;&gt;139630665086848</title>\n",
       "<path fill=\"none\" stroke=\"black\" d=\"M713.059,-79.8095C724.437,-82.2674 737.241,-85.0332 749.511,-87.6837\"/>\n",
       "<polygon fill=\"black\" stroke=\"black\" points=\"749.136,-91.1833 759.649,-89.8737 750.614,-84.3411 749.136,-91.1833\"/>\n",
       "</g>\n",
       "<!-- 139630665086512 -->\n",
       "<g id=\"node14\" class=\"node\"><title>139630665086512</title>\n",
       "<ellipse fill=\"none\" stroke=\"black\" cx=\"428.422\" cy=\"-225\" rx=\"44.6926\" ry=\"18\"/>\n",
       "<text text-anchor=\"middle\" x=\"428.422\" y=\"-221.3\" font-family=\"Times,serif\" font-size=\"14.00\">raise_two</text>\n",
       "</g>\n",
       "<!-- 139630665086288&#45;&gt;139630665086512 -->\n",
       "<g id=\"edge2\" class=\"edge\"><title>139630665086288&#45;&gt;139630665086512</title>\n",
       "<path fill=\"none\" stroke=\"black\" d=\"M347.852,-225C355.97,-225 364.63,-225 373.139,-225\"/>\n",
       "<polygon fill=\"black\" stroke=\"black\" points=\"373.395,-228.5 383.395,-225 373.395,-221.5 373.395,-228.5\"/>\n",
       "</g>\n",
       "<!-- 139630665086400&#45;&gt;139630665086736 -->\n",
       "<g id=\"edge16\" class=\"edge\"><title>139630665086400&#45;&gt;139630665086736</title>\n",
       "<path fill=\"none\" stroke=\"black\" d=\"M702.322,-32.0411C707.587,-35.7625 712.767,-40.1233 716.852,-45 742.151,-75.1991 726.204,-96.9847 752.852,-126 756.092,-129.528 759.903,-132.698 763.943,-135.518\"/>\n",
       "<polygon fill=\"black\" stroke=\"black\" points=\"762.113,-138.501 772.452,-140.815 765.813,-132.558 762.113,-138.501\"/>\n",
       "</g>\n",
       "<!-- 139630665086400&#45;&gt;139630665086848 -->\n",
       "<g id=\"edge21\" class=\"edge\"><title>139630665086400&#45;&gt;139630665086848</title>\n",
       "<path fill=\"none\" stroke=\"black\" d=\"M699.831,-32.8566C719.281,-45.461 747.418,-63.6947 769.226,-77.827\"/>\n",
       "<polygon fill=\"black\" stroke=\"black\" points=\"767.544,-80.9082 777.84,-83.4094 771.351,-75.0338 767.544,-80.9082\"/>\n",
       "</g>\n",
       "<!-- 139630665086512&#45;&gt;139630665485448 -->\n",
       "<g id=\"edge3\" class=\"edge\"><title>139630665086512&#45;&gt;139630665485448</title>\n",
       "<path fill=\"none\" stroke=\"black\" d=\"M473.379,-226.066C481.764,-226.269 490.628,-226.484 499.28,-226.694\"/>\n",
       "<polygon fill=\"black\" stroke=\"black\" points=\"499.216,-230.194 509.298,-226.937 499.386,-223.196 499.216,-230.194\"/>\n",
       "</g>\n",
       "<!-- 139630665086624&#45;&gt;139630665085840 -->\n",
       "<g id=\"edge9\" class=\"edge\"><title>139630665086624&#45;&gt;139630665085840</title>\n",
       "<path fill=\"none\" stroke=\"black\" d=\"M469.409,-126C511.849,-126 578.995,-126 624.904,-126\"/>\n",
       "<polygon fill=\"black\" stroke=\"black\" points=\"624.935,-129.5 634.935,-126 624.935,-122.5 624.935,-129.5\"/>\n",
       "</g>\n",
       "<!-- 139630665088304 -->\n",
       "<g id=\"node18\" class=\"node\"><title>139630665088304</title>\n",
       "<ellipse fill=\"none\" stroke=\"black\" cx=\"938.989\" cy=\"-153\" rx=\"40.8928\" ry=\"18\"/>\n",
       "<text text-anchor=\"middle\" x=\"938.989\" y=\"-149.3\" font-family=\"Times,serif\" font-size=\"14.00\">add_two</text>\n",
       "</g>\n",
       "<!-- 139630665086736&#45;&gt;139630665088304 -->\n",
       "<g id=\"edge26\" class=\"edge\"><title>139630665086736&#45;&gt;139630665088304</title>\n",
       "<path fill=\"none\" stroke=\"black\" d=\"M844.13,-153C857.786,-153 873.22,-153 887.57,-153\"/>\n",
       "<polygon fill=\"black\" stroke=\"black\" points=\"887.786,-156.5 897.786,-153 887.786,-149.5 887.786,-156.5\"/>\n",
       "</g>\n",
       "<!-- 139630665088360 -->\n",
       "<g id=\"node19\" class=\"node\"><title>139630665088360</title>\n",
       "<ellipse fill=\"none\" stroke=\"black\" cx=\"938.989\" cy=\"-99\" rx=\"50.0912\" ry=\"18\"/>\n",
       "<text text-anchor=\"middle\" x=\"938.989\" y=\"-95.3\" font-family=\"Times,serif\" font-size=\"14.00\">divide_two</text>\n",
       "</g>\n",
       "<!-- 139630665086736&#45;&gt;139630665088360 -->\n",
       "<g id=\"edge28\" class=\"edge\"><title>139630665086736&#45;&gt;139630665088360</title>\n",
       "<path fill=\"none\" stroke=\"black\" d=\"M833.657,-141.016C851.908,-133.666 875.563,-124.14 895.734,-116.016\"/>\n",
       "<polygon fill=\"black\" stroke=\"black\" points=\"897.052,-119.259 905.02,-112.277 894.437,-112.766 897.052,-119.259\"/>\n",
       "</g>\n",
       "<!-- 139630665086848&#45;&gt;139630665088304 -->\n",
       "<g id=\"edge25\" class=\"edge\"><title>139630665086848&#45;&gt;139630665088304</title>\n",
       "<path fill=\"none\" stroke=\"black\" d=\"M837.044,-112.348C855.621,-119.829 878.91,-129.208 898.436,-137.071\"/>\n",
       "<polygon fill=\"black\" stroke=\"black\" points=\"897.386,-140.422 907.969,-140.911 900.001,-133.929 897.386,-140.422\"/>\n",
       "</g>\n",
       "<!-- 139630665086848&#45;&gt;139630665088360 -->\n",
       "<g id=\"edge27\" class=\"edge\"><title>139630665086848&#45;&gt;139630665088360</title>\n",
       "<path fill=\"none\" stroke=\"black\" d=\"M853.067,-99C861.357,-99 870.04,-99 878.557,-99\"/>\n",
       "<polygon fill=\"black\" stroke=\"black\" points=\"878.826,-102.5 888.826,-99 878.826,-95.5001 878.826,-102.5\"/>\n",
       "</g>\n",
       "</g>\n",
       "</svg>\n"
      ],
      "text/plain": [
       "<graphviz.dot.Digraph at 0x7efe4c2fbe48>"
      ]
     },
     "execution_count": 26,
     "metadata": {},
     "output_type": "execute_result"
    }
   ],
   "source": [
    "# define any pypes\n",
    "p1 = spype.pype_input | add_two | raise_two | raise_two | add_two\n",
    "p2 = spype.pype_input | add_two | add_two\n",
    "# hook pypes to the end of add_two and feed outputs into divide_two\n",
    "complex_pype = (spype.pype_input | add_two | (p1, p2, spype.pype_input | add_two, p2, p1) \n",
    "                | (divide_two, add_two) | (divide_two, add_two))\n",
    "complex_pype &= (add_two, divide_two)\n",
    "complex_pype.plot()"
   ]
  },
  {
   "cell_type": "markdown",
   "metadata": {},
   "source": [
    "### Attaching tasks/pypes anywhere\n",
    "In some cases it may be necessary to access a particular task directly when adding new tasks. This can be done using the get_item interface on a pype object. eg:"
   ]
  },
  {
   "cell_type": "code",
   "execution_count": 27,
   "metadata": {
    "collapsed": true
   },
   "outputs": [],
   "source": [
    "p1 = spype.pype_input | add_two | raise_two | divide_two"
   ]
  },
  {
   "cell_type": "markdown",
   "metadata": {},
   "source": [
    "Now once this is defined it might be a bit tricky to attach something to the middle task but using the get_item interface makes it simple"
   ]
  },
  {
   "cell_type": "code",
   "execution_count": 28,
   "metadata": {},
   "outputs": [
    {
     "name": "stdout",
     "output_type": "stream",
     "text": [
      "PypeInput got ((2,), {}) and returned (2,)\n",
      "add_two got ((2,), {}) and returned 4\n",
      "raise_two got ((4,), {}) and returned 16\n",
      "divide_two got ((16,), {}) and returned 8\n",
      "multiply_two got ((4,), {}) and returned 8\n"
     ]
    },
    {
     "data": {
      "image/svg+xml": [
       "<?xml version=\"1.0\" encoding=\"UTF-8\" standalone=\"no\"?>\n",
       "<!DOCTYPE svg PUBLIC \"-//W3C//DTD SVG 1.1//EN\"\n",
       " \"http://www.w3.org/Graphics/SVG/1.1/DTD/svg11.dtd\">\n",
       "<!-- Generated by graphviz version 2.38.0 (20140413.2041)\n",
       " -->\n",
       "<!-- Title: %3 Pages: 1 -->\n",
       "<svg width=\"509pt\" height=\"98pt\"\n",
       " viewBox=\"0.00 0.00 508.57 98.00\" xmlns=\"http://www.w3.org/2000/svg\" xmlns:xlink=\"http://www.w3.org/1999/xlink\">\n",
       "<g id=\"graph0\" class=\"graph\" transform=\"scale(1 1) rotate(0) translate(4 94)\">\n",
       "<title>%3</title>\n",
       "<polygon fill=\"white\" stroke=\"none\" points=\"-4,4 -4,-94 504.565,-94 504.565,4 -4,4\"/>\n",
       "<!-- 139630665114120 -->\n",
       "<g id=\"node1\" class=\"node\"><title>139630665114120</title>\n",
       "<ellipse fill=\"none\" stroke=\"black\" cx=\"46.7958\" cy=\"-45\" rx=\"46.5926\" ry=\"18\"/>\n",
       "<text text-anchor=\"middle\" x=\"46.7958\" y=\"-41.3\" font-family=\"Times,serif\" font-size=\"14.00\">PypeInput</text>\n",
       "</g>\n",
       "<!-- 139630665114232 -->\n",
       "<g id=\"node2\" class=\"node\"><title>139630665114232</title>\n",
       "<ellipse fill=\"none\" stroke=\"black\" cx=\"170.538\" cy=\"-45\" rx=\"40.8928\" ry=\"18\"/>\n",
       "<text text-anchor=\"middle\" x=\"170.538\" y=\"-41.3\" font-family=\"Times,serif\" font-size=\"14.00\">add_two</text>\n",
       "</g>\n",
       "<!-- 139630665114120&#45;&gt;139630665114232 -->\n",
       "<g id=\"edge1\" class=\"edge\"><title>139630665114120&#45;&gt;139630665114232</title>\n",
       "<path fill=\"none\" stroke=\"black\" d=\"M93.8214,-45C102.151,-45 110.875,-45 119.318,-45\"/>\n",
       "<polygon fill=\"black\" stroke=\"black\" points=\"119.43,-48.5001 129.43,-45 119.43,-41.5001 119.43,-48.5001\"/>\n",
       "</g>\n",
       "<!-- 139630665114344 -->\n",
       "<g id=\"node3\" class=\"node\"><title>139630665114344</title>\n",
       "<ellipse fill=\"none\" stroke=\"black\" cx=\"305.979\" cy=\"-72\" rx=\"44.6926\" ry=\"18\"/>\n",
       "<text text-anchor=\"middle\" x=\"305.979\" y=\"-68.3\" font-family=\"Times,serif\" font-size=\"14.00\">raise_two</text>\n",
       "</g>\n",
       "<!-- 139630665114232&#45;&gt;139630665114344 -->\n",
       "<g id=\"edge2\" class=\"edge\"><title>139630665114232&#45;&gt;139630665114344</title>\n",
       "<path fill=\"none\" stroke=\"black\" d=\"M208.001,-52.3779C222.561,-55.3237 239.559,-58.763 255.221,-61.9321\"/>\n",
       "<polygon fill=\"black\" stroke=\"black\" points=\"254.786,-65.4149 265.281,-63.9676 256.174,-58.5539 254.786,-65.4149\"/>\n",
       "</g>\n",
       "<!-- 139630665115296 -->\n",
       "<g id=\"node5\" class=\"node\"><title>139630665115296</title>\n",
       "<ellipse fill=\"none\" stroke=\"black\" cx=\"305.979\" cy=\"-18\" rx=\"58.4896\" ry=\"18\"/>\n",
       "<text text-anchor=\"middle\" x=\"305.979\" y=\"-14.3\" font-family=\"Times,serif\" font-size=\"14.00\">multiply_two</text>\n",
       "</g>\n",
       "<!-- 139630665114232&#45;&gt;139630665115296 -->\n",
       "<g id=\"edge4\" class=\"edge\"><title>139630665114232&#45;&gt;139630665115296</title>\n",
       "<path fill=\"none\" stroke=\"black\" d=\"M208.001,-37.6221C219.931,-35.2084 233.498,-32.4633 246.626,-29.8071\"/>\n",
       "<polygon fill=\"black\" stroke=\"black\" points=\"247.437,-33.2139 256.544,-27.8001 246.049,-26.3529 247.437,-33.2139\"/>\n",
       "</g>\n",
       "<!-- 139630665114456 -->\n",
       "<g id=\"node4\" class=\"node\"><title>139630665114456</title>\n",
       "<ellipse fill=\"none\" stroke=\"black\" cx=\"450.52\" cy=\"-72\" rx=\"50.0912\" ry=\"18\"/>\n",
       "<text text-anchor=\"middle\" x=\"450.52\" y=\"-68.3\" font-family=\"Times,serif\" font-size=\"14.00\">divide_two</text>\n",
       "</g>\n",
       "<!-- 139630665114344&#45;&gt;139630665114456 -->\n",
       "<g id=\"edge3\" class=\"edge\"><title>139630665114344&#45;&gt;139630665114456</title>\n",
       "<path fill=\"none\" stroke=\"black\" d=\"M350.909,-72C363.237,-72 376.852,-72 389.927,-72\"/>\n",
       "<polygon fill=\"black\" stroke=\"black\" points=\"390.263,-75.5001 400.263,-72 390.263,-68.5001 390.263,-75.5001\"/>\n",
       "</g>\n",
       "</g>\n",
       "</svg>\n"
      ],
      "text/plain": [
       "<graphviz.dot.Digraph at 0x7efe4c36ba90>"
      ]
     },
     "execution_count": 28,
     "metadata": {},
     "output_type": "execute_result"
    }
   ],
   "source": [
    "pype = p1[add_two] | multiply_two  \n",
    "pype(2)\n",
    "pype.plot()"
   ]
  },
  {
   "cell_type": "markdown",
   "metadata": {},
   "source": [
    "### Getting intermediate values\n",
    "If we want to see the last value a task returned we can use the get_item interface (square brackets) on the pypes's `outputs` attribute like so:"
   ]
  },
  {
   "cell_type": "code",
   "execution_count": 29,
   "metadata": {},
   "outputs": [
    {
     "name": "stdout",
     "output_type": "stream",
     "text": [
      "((16,), {})\n",
      "((8,), {})\n"
     ]
    }
   ],
   "source": [
    "print(pype.outputs[raise_two])\n",
    "print(pype.outputs[multiply_two])"
   ]
  },
  {
   "cell_type": "markdown",
   "metadata": {},
   "source": [
    "If you want the given to the pype object when called, you can use `pype_input`"
   ]
  },
  {
   "cell_type": "code",
   "execution_count": 30,
   "metadata": {},
   "outputs": [
    {
     "name": "stdout",
     "output_type": "stream",
     "text": [
      "((2,), {})\n"
     ]
    }
   ],
   "source": [
    "print(pype.outputs[spype.pype_input])"
   ]
  },
  {
   "cell_type": "markdown",
   "metadata": {},
   "source": [
    "__WARNING__: Accessing values in this way is mainly for debugging as this is not reliable when running multiple threads or processes. Also, tasks used as keys must be unique in the pype, see the gotchas section.\n",
    "\n",
    "### Conditionals\n",
    "\n",
    "If you want to trigger tasks only under certain conditions you can use the `iff` attribute of a task. `iff` takes a callable returns a single boolean. Like callbacks, you can use any of the fixtures or named arguments which are part of the task signature. For example:"
   ]
  },
  {
   "cell_type": "code",
   "execution_count": 31,
   "metadata": {},
   "outputs": [
    {
     "name": "stdout",
     "output_type": "stream",
     "text": [
      "PypeInput got ((3,), {}) and returned (3,)\n",
      "add_two got ((3,), {}) and returned 5\n",
      "multiply_two got ((5,), {}) and returned None\n"
     ]
    },
    {
     "data": {
      "text/plain": [
       "5"
      ]
     },
     "execution_count": 31,
     "metadata": {},
     "output_type": "execute_result"
    }
   ],
   "source": [
    "def is_even(num):\n",
    "    return (num % 2) == 0\n",
    "\n",
    "pype = pype_input | add_two | multiply_two.iff(is_even) | raise_two\n",
    "\n",
    "# if number is not even only add_two gets run\n",
    "pype(3)"
   ]
  },
  {
   "cell_type": "markdown",
   "metadata": {},
   "source": [
    "Notice how execution occurred only through `multiply_two`, and stopped before `raise_two` when None was returned."
   ]
  },
  {
   "cell_type": "code",
   "execution_count": 32,
   "metadata": {},
   "outputs": [
    {
     "name": "stdout",
     "output_type": "stream",
     "text": [
      "PypeInput got ((2,), {}) and returned (2,)\n",
      "add_two got ((2,), {}) and returned 4\n",
      "multiply_two got ((4,), {}) and returned 8\n",
      "raise_two got ((8,), {}) and returned 64\n"
     ]
    },
    {
     "data": {
      "text/plain": [
       "64"
      ]
     },
     "execution_count": 32,
     "metadata": {},
     "output_type": "execute_result"
    }
   ],
   "source": [
    "pype(2)  # if the number is even it will go all the way through"
   ]
  },
  {
   "cell_type": "markdown",
   "metadata": {},
   "source": [
    "Asking for an Spype fixtures also works"
   ]
  },
  {
   "cell_type": "code",
   "execution_count": 33,
   "metadata": {},
   "outputs": [
    {
     "name": "stdout",
     "output_type": "stream",
     "text": [
      "PypeInput got ((1,), {}) and returned (1,)\n",
      "called predicate with (Pype isntance\n",
      "\n",
      "NODES: \n",
      "\n",
      "[PypeInput instance, <function add_two at 0x7efe4c354598>] \n",
      "\n",
      " EDGES: \n",
      "\n",
      "[(PypeInput instance, <function add_two at 0x7efe4c354598>)] \n",
      "\n",
      "DEPENDENCIES:\n",
      "\n",
      " []\n",
      ", <function add_two at 0x7efe4c354598>, task wrap of <function add_two at 0x7efe4c354598>)\n",
      "add_two got ((1,), {}) and returned 3\n"
     ]
    },
    {
     "data": {
      "text/plain": [
       "3"
      ]
     },
     "execution_count": 33,
     "metadata": {},
     "output_type": "execute_result"
    }
   ],
   "source": [
    "def print_pype(pype, task, wrap):\n",
    "    print(f'called predicate with {(pype, task, wrap)}')\n",
    "    return True\n",
    "\n",
    "pype = pype_input | add_two.iff(print_pype)\n",
    "pype(1)"
   ]
  },
  {
   "cell_type": "markdown",
   "metadata": {},
   "source": [
    "### Fanning out\n",
    "\n",
    "A single task may produce a sequence of objects, each of which need to be handled independently for the rest of the processing pypeline. Spype calls fanning out. It can be done using the `fan` attribute or by using the left bytes shift operator (<<, think of it as widening the outputs), although this can be a bit tricky due to byte shift occurring before the pype. \n",
    "\n",
    "An example:"
   ]
  },
  {
   "cell_type": "code",
   "execution_count": 34,
   "metadata": {},
   "outputs": [
    {
     "data": {
      "image/svg+xml": [
       "<?xml version=\"1.0\" encoding=\"UTF-8\" standalone=\"no\"?>\n",
       "<!DOCTYPE svg PUBLIC \"-//W3C//DTD SVG 1.1//EN\"\n",
       " \"http://www.w3.org/Graphics/SVG/1.1/DTD/svg11.dtd\">\n",
       "<!-- Generated by graphviz version 2.38.0 (20140413.2041)\n",
       " -->\n",
       "<!-- Title: %3 Pages: 1 -->\n",
       "<svg width=\"400pt\" height=\"44pt\"\n",
       " viewBox=\"0.00 0.00 399.77 44.00\" xmlns=\"http://www.w3.org/2000/svg\" xmlns:xlink=\"http://www.w3.org/1999/xlink\">\n",
       "<g id=\"graph0\" class=\"graph\" transform=\"scale(1 1) rotate(0) translate(4 40)\">\n",
       "<title>%3</title>\n",
       "<polygon fill=\"white\" stroke=\"none\" points=\"-4,4 -4,-40 395.772,-40 395.772,4 -4,4\"/>\n",
       "<!-- 139630665471760 -->\n",
       "<g id=\"node1\" class=\"node\"><title>139630665471760</title>\n",
       "<ellipse fill=\"none\" stroke=\"black\" cx=\"46.7958\" cy=\"-18\" rx=\"46.5926\" ry=\"18\"/>\n",
       "<text text-anchor=\"middle\" x=\"46.7958\" y=\"-14.3\" font-family=\"Times,serif\" font-size=\"14.00\">PypeInput</text>\n",
       "</g>\n",
       "<!-- 139630665471872 -->\n",
       "<g id=\"node2\" class=\"node\"><title>139630665471872</title>\n",
       "<ellipse fill=\"none\" stroke=\"black\" cx=\"192.636\" cy=\"-18\" rx=\"63.0888\" ry=\"18\"/>\n",
       "<text text-anchor=\"middle\" x=\"192.636\" y=\"-14.3\" font-family=\"Times,serif\" font-size=\"14.00\">split_on_space</text>\n",
       "</g>\n",
       "<!-- 139630665471760&#45;&gt;139630665471872 -->\n",
       "<g id=\"edge1\" class=\"edge\"><title>139630665471760&#45;&gt;139630665471872</title>\n",
       "<path fill=\"none\" stroke=\"black\" d=\"M93.7033,-18C101.858,-18 110.529,-18 119.21,-18\"/>\n",
       "<polygon fill=\"black\" stroke=\"black\" points=\"119.374,-21.5001 129.374,-18 119.374,-14.5001 119.374,-21.5001\"/>\n",
       "</g>\n",
       "<!-- 139630665472600 -->\n",
       "<g id=\"node3\" class=\"node\"><title>139630665472600</title>\n",
       "<ellipse fill=\"none\" stroke=\"black\" cx=\"341.726\" cy=\"-18\" rx=\"50.0912\" ry=\"18\"/>\n",
       "<text text-anchor=\"middle\" x=\"341.726\" y=\"-14.3\" font-family=\"Times,serif\" font-size=\"14.00\">print_input</text>\n",
       "</g>\n",
       "<!-- 139630665471872&#45;&gt;139630665472600 -->\n",
       "<g id=\"edge2\" class=\"edge\"><title>139630665471872&#45;&gt;139630665472600</title>\n",
       "<path fill=\"none\" stroke=\"black\" d=\"M256.015,-18C264.477,-18 273.14,-18 281.543,-18\"/>\n",
       "<polygon fill=\"black\" stroke=\"black\" points=\"281.632,-21.5001 291.632,-18 281.632,-14.5001 281.632,-21.5001\"/>\n",
       "</g>\n",
       "</g>\n",
       "</svg>\n"
      ],
      "text/plain": [
       "<graphviz.dot.Digraph at 0x7efe4c367eb8>"
      ]
     },
     "execution_count": 34,
     "metadata": {},
     "output_type": "execute_result"
    }
   ],
   "source": [
    "from typing import List\n",
    "\n",
    "@spype.task\n",
    "def split_on_space(obj: str) -> List[str]:\n",
    "    \"\"\" yield the string split on spaces \"\"\"\n",
    "    return obj.split(' ')\n",
    "\n",
    "\n",
    "@spype.task\n",
    "def print_input(obj: str):\n",
    "    print(f'just got {obj}')\n",
    "\n",
    "# note the parentheses \n",
    "pype = (spype.pype_input | split_on_space) << print_input\n",
    "pype.plot()"
   ]
  },
  {
   "cell_type": "code",
   "execution_count": 35,
   "metadata": {},
   "outputs": [
    {
     "name": "stdout",
     "output_type": "stream",
     "text": [
      "PypeInput got (('szechuan sauce snafu',), {}) and returned ('szechuan sauce snafu',)\n",
      "split_on_space got (('szechuan sauce snafu',), {}) and returned ['szechuan', 'sauce', 'snafu']\n",
      "just got szechuan\n",
      "print_input got (('szechuan',), {}) and returned None\n",
      "just got sauce\n",
      "print_input got (('sauce',), {}) and returned None\n",
      "just got snafu\n",
      "print_input got (('snafu',), {}) and returned None\n"
     ]
    },
    {
     "data": {
      "text/plain": [
       "['szechuan', 'sauce', 'snafu']"
      ]
     },
     "execution_count": 35,
     "metadata": {},
     "output_type": "execute_result"
    }
   ],
   "source": [
    "pype('szechuan sauce snafu')"
   ]
  },
  {
   "cell_type": "markdown",
   "metadata": {},
   "source": [
    "which is equivalent to "
   ]
  },
  {
   "cell_type": "code",
   "execution_count": 36,
   "metadata": {},
   "outputs": [
    {
     "name": "stdout",
     "output_type": "stream",
     "text": [
      "PypeInput got (('szechuan sauce snafu',), {}) and returned ('szechuan sauce snafu',)\n",
      "split_on_space got (('szechuan sauce snafu',), {}) and returned ['szechuan', 'sauce', 'snafu']\n",
      "just got szechuan\n",
      "print_input got (('szechuan',), {}) and returned None\n",
      "just got sauce\n",
      "print_input got (('sauce',), {}) and returned None\n",
      "just got snafu\n",
      "print_input got (('snafu',), {}) and returned None\n"
     ]
    },
    {
     "data": {
      "text/plain": [
       "['szechuan', 'sauce', 'snafu']"
      ]
     },
     "execution_count": 36,
     "metadata": {},
     "output_type": "execute_result"
    }
   ],
   "source": [
    "pype = spype.pype_input | split_on_space | print_input.fan()\n",
    "pype('szechuan sauce snafu')"
   ]
  },
  {
   "cell_type": "markdown",
   "metadata": {},
   "source": [
    "### Aggregating\n",
    "Aggregate does the opposite of fanning out. It stores all the outputs of a task (until it is done executing) then sends them as a tuple to the downstream tasks. This can be activated using the `agg` attribute or the right byte shift operator (`>>` think of it as \"funneling\" outputs into a task). "
   ]
  },
  {
   "cell_type": "code",
   "execution_count": 37,
   "metadata": {},
   "outputs": [
    {
     "name": "stdout",
     "output_type": "stream",
     "text": [
      "PypeInput got (('a full string',), {}) and returned ('a full string',)\n",
      "split_on_space got (('a full string',), {}) and returned ['a', 'full', 'string']\n",
      "pass_through got (('a',), {}) and returned a\n",
      "pass_through got (('full',), {}) and returned full\n",
      "pass_through got (('string',), {}) and returned string\n",
      "join_str got ((['a', 'full', 'string'],), {}) and returned a full string\n",
      "just got a full string\n",
      "print_input got (('a full string',), {}) and returned None\n"
     ]
    },
    {
     "data": {
      "text/plain": [
       "'a full string'"
      ]
     },
     "execution_count": 37,
     "metadata": {},
     "output_type": "execute_result"
    }
   ],
   "source": [
    "from typing import Tuple, TypeVar\n",
    "\n",
    "tv = TypeVar('tv')\n",
    "\n",
    "@spype.task\n",
    "def join_str(obj: List[str]) -> str:\n",
    "    return ' '.join(obj)\n",
    "\n",
    "\n",
    "@spype.task\n",
    "def pass_through(x: tv) -> tv:\n",
    "    return x\n",
    "\n",
    "\n",
    "pype = (spype.pype_input | split_on_space) << pass_through.agg() >> join_str | print_input\n",
    "pype('a full string')"
   ]
  },
  {
   "cell_type": "code",
   "execution_count": 38,
   "metadata": {},
   "outputs": [
    {
     "data": {
      "image/svg+xml": [
       "<?xml version=\"1.0\" encoding=\"UTF-8\" standalone=\"no\"?>\n",
       "<!DOCTYPE svg PUBLIC \"-//W3C//DTD SVG 1.1//EN\"\n",
       " \"http://www.w3.org/Graphics/SVG/1.1/DTD/svg11.dtd\">\n",
       "<!-- Generated by graphviz version 2.38.0 (20140413.2041)\n",
       " -->\n",
       "<!-- Title: %3 Pages: 1 -->\n",
       "<svg width=\"663pt\" height=\"44pt\"\n",
       " viewBox=\"0.00 0.00 662.85 44.00\" xmlns=\"http://www.w3.org/2000/svg\" xmlns:xlink=\"http://www.w3.org/1999/xlink\">\n",
       "<g id=\"graph0\" class=\"graph\" transform=\"scale(1 1) rotate(0) translate(4 40)\">\n",
       "<title>%3</title>\n",
       "<polygon fill=\"white\" stroke=\"none\" points=\"-4,4 -4,-40 658.855,-40 658.855,4 -4,4\"/>\n",
       "<!-- 139630665188912 -->\n",
       "<g id=\"node1\" class=\"node\"><title>139630665188912</title>\n",
       "<ellipse fill=\"none\" stroke=\"black\" cx=\"46.7958\" cy=\"-18\" rx=\"46.5926\" ry=\"18\"/>\n",
       "<text text-anchor=\"middle\" x=\"46.7958\" y=\"-14.3\" font-family=\"Times,serif\" font-size=\"14.00\">PypeInput</text>\n",
       "</g>\n",
       "<!-- 139630665189024 -->\n",
       "<g id=\"node2\" class=\"node\"><title>139630665189024</title>\n",
       "<ellipse fill=\"none\" stroke=\"black\" cx=\"192.636\" cy=\"-18\" rx=\"63.0888\" ry=\"18\"/>\n",
       "<text text-anchor=\"middle\" x=\"192.636\" y=\"-14.3\" font-family=\"Times,serif\" font-size=\"14.00\">split_on_space</text>\n",
       "</g>\n",
       "<!-- 139630665188912&#45;&gt;139630665189024 -->\n",
       "<g id=\"edge1\" class=\"edge\"><title>139630665188912&#45;&gt;139630665189024</title>\n",
       "<path fill=\"none\" stroke=\"black\" d=\"M93.7033,-18C101.858,-18 110.529,-18 119.21,-18\"/>\n",
       "<polygon fill=\"black\" stroke=\"black\" points=\"119.374,-21.5001 129.374,-18 119.374,-14.5001 119.374,-21.5001\"/>\n",
       "</g>\n",
       "<!-- 139630665189136 -->\n",
       "<g id=\"node3\" class=\"node\"><title>139630665189136</title>\n",
       "<ellipse fill=\"none\" stroke=\"black\" cx=\"349.525\" cy=\"-18\" rx=\"57.6901\" ry=\"18\"/>\n",
       "<text text-anchor=\"middle\" x=\"349.525\" y=\"-14.3\" font-family=\"Times,serif\" font-size=\"14.00\">pass_through</text>\n",
       "</g>\n",
       "<!-- 139630665189024&#45;&gt;139630665189136 -->\n",
       "<g id=\"edge2\" class=\"edge\"><title>139630665189024&#45;&gt;139630665189136</title>\n",
       "<polygon fill=\"black\" stroke=\"none\" stroke-width=\"7\" points=\"255.743,-21.5 257.514,-21.3263 259.292,-21.1519 261.075,-20.977 262.863,-20.8016 264.655,-20.6258 266.45,-20.4497 268.247,-20.2734 270.046,-20.0969 271.845,-19.9204 273.643,-19.744 275.441,-19.5676 277.236,-19.3915 279.029,-19.2157 280.818,-19.0402 282.602,-18.8652 284.38,-18.6907 286.152,-18.5169 287.917,-18.3438 289.673,-18.1714 291.421,-18 291.421,-18 289.673,-17.8286 287.917,-17.6562 286.152,-17.4831 284.38,-17.3093 282.602,-17.1348 280.818,-16.9598 279.029,-16.7843 277.236,-16.6085 275.441,-16.4324 273.643,-16.256 271.845,-16.0796 270.046,-15.9031 268.247,-15.7266 266.45,-15.5503 264.655,-15.3742 262.863,-15.1984 261.075,-15.023 259.292,-14.8481 257.514,-14.6737 255.743,-14.5 255.743,-21.5\"/>\n",
       "</g>\n",
       "<!-- 139630665189248 -->\n",
       "<g id=\"node4\" class=\"node\"><title>139630665189248</title>\n",
       "<ellipse fill=\"none\" stroke=\"black\" cx=\"481.067\" cy=\"-18\" rx=\"37.8943\" ry=\"18\"/>\n",
       "<text text-anchor=\"middle\" x=\"481.067\" y=\"-14.3\" font-family=\"Times,serif\" font-size=\"14.00\">join_str</text>\n",
       "</g>\n",
       "<!-- 139630665189136&#45;&gt;139630665189248 -->\n",
       "<g id=\"edge3\" class=\"edge\"><title>139630665189136&#45;&gt;139630665189248</title>\n",
       "<polygon fill=\"black\" stroke=\"none\" stroke-width=\"7\" points=\"407.721,-18 409.533,-18.3568 411.35,-18.7143 413.169,-19.0725 414.989,-19.4309 416.81,-19.7893 418.629,-20.1476 420.446,-20.5054 422.26,-20.8624 424.069,-21.2185 425.871,-21.4266 427.667,-21.0732 429.453,-20.7215 431.229,-20.3717 432.994,-20.0242 434.747,-19.6792 436.485,-19.3369 438.209,-18.9976 439.916,-18.6615 441.605,-18.3289 443.276,-18 443.276,-18 441.605,-17.6711 439.916,-17.3385 438.209,-17.0024 436.485,-16.6631 434.747,-16.3208 432.994,-15.9758 431.229,-15.6283 429.453,-15.2785 427.667,-14.9268 425.871,-14.5734 424.069,-14.7815 422.26,-15.1376 420.446,-15.4946 418.629,-15.8524 416.81,-16.2107 414.989,-16.5691 413.169,-16.9275 411.35,-17.2857 409.533,-17.6432 407.721,-18 407.721,-18\"/>\n",
       "</g>\n",
       "<!-- 139630665190144 -->\n",
       "<g id=\"node5\" class=\"node\"><title>139630665190144</title>\n",
       "<ellipse fill=\"none\" stroke=\"black\" cx=\"604.809\" cy=\"-18\" rx=\"50.0912\" ry=\"18\"/>\n",
       "<text text-anchor=\"middle\" x=\"604.809\" y=\"-14.3\" font-family=\"Times,serif\" font-size=\"14.00\">print_input</text>\n",
       "</g>\n",
       "<!-- 139630665189248&#45;&gt;139630665190144 -->\n",
       "<g id=\"edge4\" class=\"edge\"><title>139630665189248&#45;&gt;139630665190144</title>\n",
       "<path fill=\"none\" stroke=\"black\" d=\"M518.924,-18C526.972,-18 535.687,-18 544.364,-18\"/>\n",
       "<polygon fill=\"black\" stroke=\"black\" points=\"544.489,-21.5001 554.489,-18 544.489,-14.5001 544.489,-21.5001\"/>\n",
       "</g>\n",
       "</g>\n",
       "</svg>\n"
      ],
      "text/plain": [
       "<graphviz.dot.Digraph at 0x7efe4c32ccc0>"
      ]
     },
     "execution_count": 38,
     "metadata": {},
     "output_type": "execute_result"
    }
   ],
   "source": [
    "pype.plot()"
   ]
  },
  {
   "cell_type": "markdown",
   "metadata": {},
   "source": [
    "### Dependency injection\n",
    "If a task needs data that are not passed from the previous task you can use the `partial` method. For example, if the `num2` parameter in  the `divide_two` function should always be 2:"
   ]
  },
  {
   "cell_type": "code",
   "execution_count": 39,
   "metadata": {
    "collapsed": true
   },
   "outputs": [],
   "source": [
    "pype = spype.pype_input | add_two | raise_two | divide_numbers.partial(num2=2)"
   ]
  },
  {
   "cell_type": "markdown",
   "metadata": {},
   "source": [
    "If the value of num2 depends on the output of another task, you can assign the task in the partial statement. Then, the value returned by the task will be assigned to the parameter."
   ]
  },
  {
   "cell_type": "code",
   "execution_count": 40,
   "metadata": {},
   "outputs": [
    {
     "name": "stdout",
     "output_type": "stream",
     "text": [
      "PypeInput got ((2,), {}) and returned (2,)\n",
      "add_two got ((2,), {}) and returned 4\n",
      "raise_two got ((4,), {}) and returned 16\n",
      "divide_numbers got ((16, 4), {}) and returned 4\n"
     ]
    },
    {
     "data": {
      "text/plain": [
       "4"
      ]
     },
     "execution_count": 40,
     "metadata": {},
     "output_type": "execute_result"
    }
   ],
   "source": [
    "pype = spype.pype_input | add_two | (raise_two, divide_numbers.partial(num1=raise_two))\n",
    "pype(2) "
   ]
  },
  {
   "cell_type": "markdown",
   "metadata": {},
   "source": [
    "You can also define an argument's value using the set_item interface of the pype. Then, all unmet arguments with the same name used in the set_item call will be given that value or, the the value returned by a task if a task instance is used. For example:"
   ]
  },
  {
   "cell_type": "code",
   "execution_count": 41,
   "metadata": {},
   "outputs": [
    {
     "name": "stdout",
     "output_type": "stream",
     "text": [
      "PypeInput got ((2,), {}) and returned (2,)\n",
      "add_two got ((2,), {}) and returned 4\n",
      "raise_two got ((4,), {}) and returned 16\n",
      "divide_numbers got ((16, 2), {}) and returned 8\n"
     ]
    },
    {
     "data": {
      "text/plain": [
       "8"
      ]
     },
     "execution_count": 41,
     "metadata": {},
     "output_type": "execute_result"
    }
   ],
   "source": [
    "pype = spype.pype_input | add_two | raise_two | divide_numbers\n",
    "# if we called pype now it would raise because divide needs two arguments\n",
    "# however, we can tell the pype what the value should be.\n",
    "pype['num2'] = 2\n",
    "# now 2 will automatically be passed to divide when no other value for num2 is found\n",
    "pype(2)  # returns 8"
   ]
  },
  {
   "cell_type": "code",
   "execution_count": 42,
   "metadata": {},
   "outputs": [
    {
     "name": "stdout",
     "output_type": "stream",
     "text": [
      "PypeInput got ((2,), {}) and returned (2,)\n",
      "add_two got ((2,), {}) and returned 4\n",
      "raise_two got ((4,), {}) and returned 16\n",
      "divide_numbers got ((16, 4), {}) and returned 4\n"
     ]
    },
    {
     "data": {
      "text/plain": [
       "4"
      ]
     },
     "execution_count": 42,
     "metadata": {},
     "output_type": "execute_result"
    }
   ],
   "source": [
    "pype = spype.pype_input | add_two | raise_two | divide_numbers\n",
    "# we could also assign a task, indicating the output of the task should be used\n",
    "pype['num2'] = add_two\n",
    "pype(2)  # returns 4 because num2 = the result of add_two (4)"
   ]
  },
  {
   "cell_type": "markdown",
   "metadata": {},
   "source": [
    "You need to be a little careful with this, if you define circular dependencies an InvalidPype exception will be raised the first time you try calling a malformed pype. "
   ]
  },
  {
   "cell_type": "markdown",
   "metadata": {},
   "source": [
    "### Debugging\n",
    "Admittedly, it can be a bit challenging to navigate spype's working to get to debugging your tasks. For this reason, the pype Class has a `debug` method, which will essentially drop you into a debugger before each task or selected tasks get called."
   ]
  },
  {
   "cell_type": "code",
   "execution_count": 43,
   "metadata": {
    "collapsed": true
   },
   "outputs": [],
   "source": [
    "pype = pype_input | multiply_two | raise_two\n",
    "\n",
    "with pype.debug() as p:\n",
    "    pass  # calling the pype will drop you into a debugger at the start of every task"
   ]
  },
  {
   "cell_type": "markdown",
   "metadata": {},
   "source": [
    "### Gotchas\n",
    "\n",
    "Spype still has a few warts which I hope to fix in the future. For now, there are mainly two things that might trip you up:\n",
    "\n",
    "#### Task uniqueness\n",
    "As demonstrated, tasks can be used as keys to set dependencies and check results. If a single task is used multiple times in a pype, however, some of these features will not be reliable, and will probably raise Exceptions in future versions.\n",
    "\n",
    "For example, the following code will return the latest value returned by the `add_two` task."
   ]
  },
  {
   "cell_type": "code",
   "execution_count": 44,
   "metadata": {},
   "outputs": [
    {
     "name": "stdout",
     "output_type": "stream",
     "text": [
      "PypeInput got ((2,), {}) and returned (2,)\n",
      "add_two got ((2,), {}) and returned 4\n",
      "add_two got ((4,), {}) and returned 6\n",
      "((6,), {})\n"
     ]
    }
   ],
   "source": [
    "pype = pype_input | add_two | add_two \n",
    "pype(2)\n",
    "print(pype.outputs[add_two])"
   ]
  },
  {
   "cell_type": "markdown",
   "metadata": {},
   "source": [
    "If the pype was more complex, however, it would be difficult to know which `add_two` ouputs were being referred to."
   ]
  },
  {
   "cell_type": "code",
   "execution_count": 45,
   "metadata": {},
   "outputs": [
    {
     "name": "stdout",
     "output_type": "stream",
     "text": [
      "PypeInput got ((2,), {}) and returned (2,)\n",
      "add_two got ((2,), {}) and returned 4\n",
      "add_two got ((2,), {}) and returned 4\n",
      "add_two got ((2,), {}) and returned 4\n",
      "add_two got ((4,), {}) and returned 6\n",
      "add_two got ((2,), {}) and returned 4\n",
      "((4,), {})\n"
     ]
    }
   ],
   "source": [
    "pype = pype_input | (add_two, add_two, (pype_input | add_two | add_two))\n",
    "pype &= add_two\n",
    "pype(2)\n",
    "print(pype.outputs[add_two])"
   ]
  },
  {
   "cell_type": "markdown",
   "metadata": {},
   "source": [
    "#### Task uniqueness: best practices \n",
    "There are a few  options for easily avoiding the issue if you do need to use a pype with multiple identical tasks (in order of preference):\n",
    "\n",
    "1. Don't depend on features that require unique tasks\n",
    "2. Use a class based task and instantiate different objects\n",
    "3. Copy tasks using the copy function\n",
    "\n",
    "The last option will probably break the ability of the pickle module to serialize the pype. \n",
    "\n",
    "##### option 1\n",
    "Most of the pype features will work fine, so if you can rethink how the pype is being used to avoid needing any of the tasks to be unique it is probably the most prudent course of action.\n",
    "\n",
    "##### option 2\n",
    "Instances of class based tasks will work as expected:"
   ]
  },
  {
   "cell_type": "code",
   "execution_count": 46,
   "metadata": {},
   "outputs": [
    {
     "name": "stdout",
     "output_type": "stream",
     "text": [
      "PypeInput got ((2,), {}) and returned (2,)\n",
      "AddTwo got ((2,), {}) and returned 4\n",
      "AddTwo got ((4,), {}) and returned 6\n",
      "AddTwo got ((6,), {}) and returned 8\n",
      "((4,), {})\n",
      "((6,), {})\n",
      "((8,), {})\n"
     ]
    }
   ],
   "source": [
    "class AddTwo(spype.Task):\n",
    "    def __call__(self, num: int) -> int:\n",
    "        return num + 2\n",
    "    \n",
    "add2 = [AddTwo() for _ in range(3)]\n",
    "\n",
    "pype = pype_input | add2[0] | add2[1] | add2[2]\n",
    "pype(2)\n",
    "\n",
    "for add in add2:\n",
    "    print(pype.outputs[add])"
   ]
  },
  {
   "cell_type": "markdown",
   "metadata": {},
   "source": [
    "##### option 3\n",
    "You can also simply copy a task using the `copy` method, though the resulting task will probably not be serializable using vanilla pickle so it may mess up multiprocessing."
   ]
  },
  {
   "cell_type": "code",
   "execution_count": 47,
   "metadata": {},
   "outputs": [
    {
     "name": "stdout",
     "output_type": "stream",
     "text": [
      "PypeInput got ((2,), {}) and returned (2,)\n",
      "add_two got ((2,), {}) and returned 4\n",
      "add_two got ((4,), {}) and returned 6\n",
      "add_two got ((6,), {}) and returned 8\n",
      "((4,), {})\n",
      "((6,), {})\n",
      "((8,), {})\n"
     ]
    }
   ],
   "source": [
    "add2 = add_two.copy(), add_two.copy(), add_two.copy()\n",
    "\n",
    "pype = pype_input | add2[0] | add2[1] | add2[2]\n",
    "pype(2)\n",
    "\n",
    "for add in add2:\n",
    "    print(pype.outputs[add])"
   ]
  }
 ],
 "metadata": {
  "kernelspec": {
   "display_name": "Python 3",
   "language": "python",
   "name": "python3"
  },
  "language_info": {
   "codemirror_mode": {
    "name": "ipython",
    "version": 3
   },
   "file_extension": ".py",
   "mimetype": "text/x-python",
   "name": "python",
   "nbconvert_exporter": "python",
   "pygments_lexer": "ipython3",
   "version": "3.6.3"
  }
 },
 "nbformat": 4,
 "nbformat_minor": 2
}
